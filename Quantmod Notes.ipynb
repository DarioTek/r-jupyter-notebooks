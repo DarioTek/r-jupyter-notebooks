{
 "cells": [
  {
   "cell_type": "markdown",
   "metadata": {},
   "source": [
    "<hr>\n",
    "<h1>Reference:</h1>\n",
    "https://stats.stackexchange.com/questions/8407/import-stock-price-from-yahoo-finance-into-r <br>\n",
    "https://cran.r-project.org/web/packages/quantmod/quantmod.pdf <br>\n",
    "<hr>"
   ]
  },
  {
   "cell_type": "code",
   "execution_count": 1,
   "metadata": {},
   "outputs": [
    {
     "name": "stderr",
     "output_type": "stream",
     "text": [
      "Loading required package: quantmod\n",
      "Loading required package: xts\n",
      "Loading required package: zoo\n",
      "\n",
      "Attaching package: 'zoo'\n",
      "\n",
      "The following objects are masked from 'package:base':\n",
      "\n",
      "    as.Date, as.Date.numeric\n",
      "\n",
      "Loading required package: TTR\n",
      "Version 0.4-0 included new data defaults. See ?getSymbols.\n",
      "'getSymbols' currently uses auto.assign=TRUE by default, but will\n",
      "use auto.assign=FALSE in 0.5-0. You will still be able to use\n",
      "'loadSymbols' to automatically load data. getOption(\"getSymbols.env\")\n",
      "and getOption(\"getSymbols.auto.assign\") will still be checked for\n",
      "alternate defaults.\n",
      "\n",
      "This message is shown once per session and may be disabled by setting \n",
      "options(\"getSymbols.warning4.0\"=FALSE). See ?getSymbols for details.\n",
      "\n",
      "WARNING: There have been significant changes to Yahoo Finance data.\n",
      "Please see the Warning section of '?getSymbols.yahoo' for details.\n",
      "\n",
      "This message is shown once per session and may be disabled by setting\n",
      "options(\"getSymbols.yahoo.warning\"=FALSE).\n",
      "Warning message:\n",
      "\"AAPL contains missing values. Some functions will not work if objects contain missing values in the middle of the series. Consider using na.omit(), na.approx(), na.fill(), etc to remove or replace them.\""
     ]
    },
    {
     "data": {
      "text/html": [
       "'AAPL'"
      ],
      "text/latex": [
       "'AAPL'"
      ],
      "text/markdown": [
       "'AAPL'"
      ],
      "text/plain": [
       "[1] \"AAPL\""
      ]
     },
     "metadata": {},
     "output_type": "display_data"
    }
   ],
   "source": [
    "# Get quantmod\n",
    "if (!require(\"quantmod\")) {\n",
    "    install.packages(\"quantmod\")\n",
    "    library(quantmod)\n",
    "}\n",
    "\n",
    "start <- as.Date(\"1970-01-01\")\n",
    "end <- as.Date(\"2019-04-20\")\n",
    "\n",
    "# Let's get Apple stock data; Apple's ticker symbol is AAPL. We use the\n",
    "# quantmod function getSymbols, and pass a string as a first argument to\n",
    "# identify the desired ticker symbol, pass 'yahoo' to src for Yahoo!\n",
    "# Finance, and from and to specify date ranges\n",
    "\n",
    "# The default behavior for getSymbols is to load data directly into the\n",
    "# global environment, with the object being named after the loaded ticker\n",
    "# symbol. This feature may become deprecated in the future, but we exploit\n",
    "# it now.\n",
    "\n",
    "getSymbols(\"AAPL\", src = \"yahoo\", from = start, to = end)"
   ]
  },
  {
   "cell_type": "code",
   "execution_count": 4,
   "metadata": {},
   "outputs": [
    {
     "data": {
      "text/html": [
       "<ol class=list-inline>\n",
       "\t<li>'xts'</li>\n",
       "\t<li>'zoo'</li>\n",
       "</ol>\n"
      ],
      "text/latex": [
       "\\begin{enumerate*}\n",
       "\\item 'xts'\n",
       "\\item 'zoo'\n",
       "\\end{enumerate*}\n"
      ],
      "text/markdown": [
       "1. 'xts'\n",
       "2. 'zoo'\n",
       "\n",
       "\n"
      ],
      "text/plain": [
       "[1] \"xts\" \"zoo\""
      ]
     },
     "metadata": {},
     "output_type": "display_data"
    }
   ],
   "source": [
    "class(AAPL)"
   ]
  },
  {
   "cell_type": "code",
   "execution_count": 5,
   "metadata": {},
   "outputs": [
    {
     "data": {
      "image/png": "[encoded data removed]",
      "text/plain": [
       "Plot with title \"[1980-12-12/2019-04-18]\""
      ]
     },
     "metadata": {},
     "output_type": "display_data"
    }
   ],
   "source": [
    "candleChart(AAPL, up.col='green', down.col='red', theme='white')"
   ]
  },
  {
   "cell_type": "code",
   "execution_count": 6,
   "metadata": {},
   "outputs": [],
   "source": [
    "# convert AAPL xts objecct to a dataframe called df_AAPL\n",
    "# also convert the index to a column calle date into the data frame\n",
    "df <- data.frame(date=index(AAPL), coredata(AAPL))"
   ]
  },
  {
   "cell_type": "code",
   "execution_count": 32,
   "metadata": {},
   "outputs": [
    {
     "data": {
      "text/html": [
       "<table>\n",
       "<thead><tr><th scope=col>date</th><th scope=col>AAPL.Open</th><th scope=col>AAPL.High</th><th scope=col>AAPL.Low</th><th scope=col>AAPL.Close</th><th scope=col>AAPL.Volume</th><th scope=col>AAPL.Adjusted</th></tr></thead>\n",
       "<tbody>\n",
       "\t<tr><td>1980-12-12</td><td>11.456    </td><td>11.506    </td><td>11.456    </td><td>0.513393  </td><td>117258400 </td><td>0.023007  </td></tr>\n",
       "\t<tr><td>1980-12-15</td><td>10.908    </td><td>10.908    </td><td>10.858    </td><td>0.486607  </td><td> 43971200 </td><td>0.021807  </td></tr>\n",
       "\t<tr><td>1980-12-16</td><td>10.111    </td><td>10.111    </td><td>10.062    </td><td>0.450893  </td><td> 26432000 </td><td>0.020206  </td></tr>\n",
       "\t<tr><td>1980-12-17</td><td>10.311    </td><td>10.361    </td><td>10.311    </td><td>0.462054  </td><td> 21610400 </td><td>0.020706  </td></tr>\n",
       "\t<tr><td>1980-12-18</td><td>10.609    </td><td>10.659    </td><td>10.609    </td><td>0.475446  </td><td> 18362400 </td><td>0.021307  </td></tr>\n",
       "\t<tr><td>1980-12-19</td><td>11.257    </td><td>11.307    </td><td>11.257    </td><td>0.504464  </td><td> 12157600 </td><td>0.022607  </td></tr>\n",
       "</tbody>\n",
       "</table>\n"
      ],
      "text/latex": [
       "\\begin{tabular}{r|lllllll}\n",
       " date & AAPL.Open & AAPL.High & AAPL.Low & AAPL.Close & AAPL.Volume & AAPL.Adjusted\\\\\n",
       "\\hline\n",
       "\t 1980-12-12 & 11.456     & 11.506     & 11.456     & 0.513393   & 117258400  & 0.023007  \\\\\n",
       "\t 1980-12-15 & 10.908     & 10.908     & 10.858     & 0.486607   &  43971200  & 0.021807  \\\\\n",
       "\t 1980-12-16 & 10.111     & 10.111     & 10.062     & 0.450893   &  26432000  & 0.020206  \\\\\n",
       "\t 1980-12-17 & 10.311     & 10.361     & 10.311     & 0.462054   &  21610400  & 0.020706  \\\\\n",
       "\t 1980-12-18 & 10.609     & 10.659     & 10.609     & 0.475446   &  18362400  & 0.021307  \\\\\n",
       "\t 1980-12-19 & 11.257     & 11.307     & 11.257     & 0.504464   &  12157600  & 0.022607  \\\\\n",
       "\\end{tabular}\n"
      ],
      "text/markdown": [
       "\n",
       "date | AAPL.Open | AAPL.High | AAPL.Low | AAPL.Close | AAPL.Volume | AAPL.Adjusted | \n",
       "|---|---|---|---|---|---|\n",
       "| 1980-12-12 | 11.456     | 11.506     | 11.456     | 0.513393   | 117258400  | 0.023007   | \n",
       "| 1980-12-15 | 10.908     | 10.908     | 10.858     | 0.486607   |  43971200  | 0.021807   | \n",
       "| 1980-12-16 | 10.111     | 10.111     | 10.062     | 0.450893   |  26432000  | 0.020206   | \n",
       "| 1980-12-17 | 10.311     | 10.361     | 10.311     | 0.462054   |  21610400  | 0.020706   | \n",
       "| 1980-12-18 | 10.609     | 10.659     | 10.609     | 0.475446   |  18362400  | 0.021307   | \n",
       "| 1980-12-19 | 11.257     | 11.307     | 11.257     | 0.504464   |  12157600  | 0.022607   | \n",
       "\n",
       "\n"
      ],
      "text/plain": [
       "  date       AAPL.Open AAPL.High AAPL.Low AAPL.Close AAPL.Volume AAPL.Adjusted\n",
       "1 1980-12-12 11.456    11.506    11.456   0.513393   117258400   0.023007     \n",
       "2 1980-12-15 10.908    10.908    10.858   0.486607    43971200   0.021807     \n",
       "3 1980-12-16 10.111    10.111    10.062   0.450893    26432000   0.020206     \n",
       "4 1980-12-17 10.311    10.361    10.311   0.462054    21610400   0.020706     \n",
       "5 1980-12-18 10.609    10.659    10.609   0.475446    18362400   0.021307     \n",
       "6 1980-12-19 11.257    11.307    11.257   0.504464    12157600   0.022607     "
      ]
     },
     "metadata": {},
     "output_type": "display_data"
    }
   ],
   "source": [
    "head(df)"
   ]
  },
  {
   "cell_type": "markdown",
   "metadata": {},
   "source": [
    "# renaming columns in R\n",
    "http://rprogramming.net/rename-columns-in-r/"
   ]
  },
  {
   "cell_type": "code",
   "execution_count": 57,
   "metadata": {},
   "outputs": [
    {
     "data": {
      "text/html": [
       "<table>\n",
       "<thead><tr><th scope=col>Date</th><th scope=col>Open</th><th scope=col>High</th><th scope=col>Low</th><th scope=col>Close</th><th scope=col>Volume</th><th scope=col>Adjusted</th></tr></thead>\n",
       "<tbody>\n",
       "\t<tr><td>1980-12-12</td><td>11.456    </td><td>11.506    </td><td>11.456    </td><td>0.513393  </td><td>117258400 </td><td>0.023007  </td></tr>\n",
       "\t<tr><td>1980-12-15</td><td>10.908    </td><td>10.908    </td><td>10.858    </td><td>0.486607  </td><td> 43971200 </td><td>0.021807  </td></tr>\n",
       "\t<tr><td>1980-12-16</td><td>10.111    </td><td>10.111    </td><td>10.062    </td><td>0.450893  </td><td> 26432000 </td><td>0.020206  </td></tr>\n",
       "\t<tr><td>1980-12-17</td><td>10.311    </td><td>10.361    </td><td>10.311    </td><td>0.462054  </td><td> 21610400 </td><td>0.020706  </td></tr>\n",
       "\t<tr><td>1980-12-18</td><td>10.609    </td><td>10.659    </td><td>10.609    </td><td>0.475446  </td><td> 18362400 </td><td>0.021307  </td></tr>\n",
       "\t<tr><td>1980-12-19</td><td>11.257    </td><td>11.307    </td><td>11.257    </td><td>0.504464  </td><td> 12157600 </td><td>0.022607  </td></tr>\n",
       "</tbody>\n",
       "</table>\n"
      ],
      "text/latex": [
       "\\begin{tabular}{r|lllllll}\n",
       " Date & Open & High & Low & Close & Volume & Adjusted\\\\\n",
       "\\hline\n",
       "\t 1980-12-12 & 11.456     & 11.506     & 11.456     & 0.513393   & 117258400  & 0.023007  \\\\\n",
       "\t 1980-12-15 & 10.908     & 10.908     & 10.858     & 0.486607   &  43971200  & 0.021807  \\\\\n",
       "\t 1980-12-16 & 10.111     & 10.111     & 10.062     & 0.450893   &  26432000  & 0.020206  \\\\\n",
       "\t 1980-12-17 & 10.311     & 10.361     & 10.311     & 0.462054   &  21610400  & 0.020706  \\\\\n",
       "\t 1980-12-18 & 10.609     & 10.659     & 10.609     & 0.475446   &  18362400  & 0.021307  \\\\\n",
       "\t 1980-12-19 & 11.257     & 11.307     & 11.257     & 0.504464   &  12157600  & 0.022607  \\\\\n",
       "\\end{tabular}\n"
      ],
      "text/markdown": [
       "\n",
       "Date | Open | High | Low | Close | Volume | Adjusted | \n",
       "|---|---|---|---|---|---|\n",
       "| 1980-12-12 | 11.456     | 11.506     | 11.456     | 0.513393   | 117258400  | 0.023007   | \n",
       "| 1980-12-15 | 10.908     | 10.908     | 10.858     | 0.486607   |  43971200  | 0.021807   | \n",
       "| 1980-12-16 | 10.111     | 10.111     | 10.062     | 0.450893   |  26432000  | 0.020206   | \n",
       "| 1980-12-17 | 10.311     | 10.361     | 10.311     | 0.462054   |  21610400  | 0.020706   | \n",
       "| 1980-12-18 | 10.609     | 10.659     | 10.609     | 0.475446   |  18362400  | 0.021307   | \n",
       "| 1980-12-19 | 11.257     | 11.307     | 11.257     | 0.504464   |  12157600  | 0.022607   | \n",
       "\n",
       "\n"
      ],
      "text/plain": [
       "  Date       Open   High   Low    Close    Volume    Adjusted\n",
       "1 1980-12-12 11.456 11.506 11.456 0.513393 117258400 0.023007\n",
       "2 1980-12-15 10.908 10.908 10.858 0.486607  43971200 0.021807\n",
       "3 1980-12-16 10.111 10.111 10.062 0.450893  26432000 0.020206\n",
       "4 1980-12-17 10.311 10.361 10.311 0.462054  21610400 0.020706\n",
       "5 1980-12-18 10.609 10.659 10.609 0.475446  18362400 0.021307\n",
       "6 1980-12-19 11.257 11.307 11.257 0.504464  12157600 0.022607"
      ]
     },
     "metadata": {},
     "output_type": "display_data"
    }
   ],
   "source": [
    "names(df) <- c(\"Date\", \"Open\", \"High\", \"Low\", \"Close\", \"Volume\", \"Adjusted\")\n",
    "head(df)"
   ]
  },
  {
   "cell_type": "code",
   "execution_count": 58,
   "metadata": {},
   "outputs": [
    {
     "data": {
      "text/html": [
       "<table>\n",
       "<thead><tr><th scope=col>Date</th><th scope=col>Open</th><th scope=col>High</th><th scope=col>Low</th><th scope=col>Close</th><th scope=col>Volume</th><th scope=col>Adjusted</th><th scope=col>Symbol</th></tr></thead>\n",
       "<tbody>\n",
       "\t<tr><td>1980-12-12</td><td>11.456    </td><td>11.506    </td><td>11.456    </td><td>0.513393  </td><td>117258400 </td><td>0.023007  </td><td>AAPL      </td></tr>\n",
       "\t<tr><td>1980-12-15</td><td>10.908    </td><td>10.908    </td><td>10.858    </td><td>0.486607  </td><td> 43971200 </td><td>0.021807  </td><td>AAPL      </td></tr>\n",
       "\t<tr><td>1980-12-16</td><td>10.111    </td><td>10.111    </td><td>10.062    </td><td>0.450893  </td><td> 26432000 </td><td>0.020206  </td><td>AAPL      </td></tr>\n",
       "\t<tr><td>1980-12-17</td><td>10.311    </td><td>10.361    </td><td>10.311    </td><td>0.462054  </td><td> 21610400 </td><td>0.020706  </td><td>AAPL      </td></tr>\n",
       "\t<tr><td>1980-12-18</td><td>10.609    </td><td>10.659    </td><td>10.609    </td><td>0.475446  </td><td> 18362400 </td><td>0.021307  </td><td>AAPL      </td></tr>\n",
       "\t<tr><td>1980-12-19</td><td>11.257    </td><td>11.307    </td><td>11.257    </td><td>0.504464  </td><td> 12157600 </td><td>0.022607  </td><td>AAPL      </td></tr>\n",
       "</tbody>\n",
       "</table>\n"
      ],
      "text/latex": [
       "\\begin{tabular}{r|llllllll}\n",
       " Date & Open & High & Low & Close & Volume & Adjusted & Symbol\\\\\n",
       "\\hline\n",
       "\t 1980-12-12 & 11.456     & 11.506     & 11.456     & 0.513393   & 117258400  & 0.023007   & AAPL      \\\\\n",
       "\t 1980-12-15 & 10.908     & 10.908     & 10.858     & 0.486607   &  43971200  & 0.021807   & AAPL      \\\\\n",
       "\t 1980-12-16 & 10.111     & 10.111     & 10.062     & 0.450893   &  26432000  & 0.020206   & AAPL      \\\\\n",
       "\t 1980-12-17 & 10.311     & 10.361     & 10.311     & 0.462054   &  21610400  & 0.020706   & AAPL      \\\\\n",
       "\t 1980-12-18 & 10.609     & 10.659     & 10.609     & 0.475446   &  18362400  & 0.021307   & AAPL      \\\\\n",
       "\t 1980-12-19 & 11.257     & 11.307     & 11.257     & 0.504464   &  12157600  & 0.022607   & AAPL      \\\\\n",
       "\\end{tabular}\n"
      ],
      "text/markdown": [
       "\n",
       "Date | Open | High | Low | Close | Volume | Adjusted | Symbol | \n",
       "|---|---|---|---|---|---|\n",
       "| 1980-12-12 | 11.456     | 11.506     | 11.456     | 0.513393   | 117258400  | 0.023007   | AAPL       | \n",
       "| 1980-12-15 | 10.908     | 10.908     | 10.858     | 0.486607   |  43971200  | 0.021807   | AAPL       | \n",
       "| 1980-12-16 | 10.111     | 10.111     | 10.062     | 0.450893   |  26432000  | 0.020206   | AAPL       | \n",
       "| 1980-12-17 | 10.311     | 10.361     | 10.311     | 0.462054   |  21610400  | 0.020706   | AAPL       | \n",
       "| 1980-12-18 | 10.609     | 10.659     | 10.609     | 0.475446   |  18362400  | 0.021307   | AAPL       | \n",
       "| 1980-12-19 | 11.257     | 11.307     | 11.257     | 0.504464   |  12157600  | 0.022607   | AAPL       | \n",
       "\n",
       "\n"
      ],
      "text/plain": [
       "  Date       Open   High   Low    Close    Volume    Adjusted Symbol\n",
       "1 1980-12-12 11.456 11.506 11.456 0.513393 117258400 0.023007 AAPL  \n",
       "2 1980-12-15 10.908 10.908 10.858 0.486607  43971200 0.021807 AAPL  \n",
       "3 1980-12-16 10.111 10.111 10.062 0.450893  26432000 0.020206 AAPL  \n",
       "4 1980-12-17 10.311 10.361 10.311 0.462054  21610400 0.020706 AAPL  \n",
       "5 1980-12-18 10.609 10.659 10.609 0.475446  18362400 0.021307 AAPL  \n",
       "6 1980-12-19 11.257 11.307 11.257 0.504464  12157600 0.022607 AAPL  "
      ]
     },
     "metadata": {},
     "output_type": "display_data"
    }
   ],
   "source": [
    "df$Symbol <- 'AAPL'\n",
    "head(df)"
   ]
  },
  {
   "cell_type": "markdown",
   "metadata": {},
   "source": [
    "# how to use ifelse function in R"
   ]
  },
  {
   "cell_type": "code",
   "execution_count": 60,
   "metadata": {},
   "outputs": [
    {
     "data": {
      "text/html": [
       "<table>\n",
       "<thead><tr><th scope=col>Date</th><th scope=col>Open</th><th scope=col>High</th><th scope=col>Low</th><th scope=col>Close</th><th scope=col>Volume</th><th scope=col>Adjusted</th><th scope=col>Symbol</th><th scope=col>UpDown</th></tr></thead>\n",
       "<tbody>\n",
       "\t<tr><td>1980-12-12</td><td>11.456    </td><td>11.506    </td><td>11.456    </td><td>0.513393  </td><td>117258400 </td><td>0.023007  </td><td>AAPL      </td><td>0         </td></tr>\n",
       "\t<tr><td>1980-12-15</td><td>10.908    </td><td>10.908    </td><td>10.858    </td><td>0.486607  </td><td> 43971200 </td><td>0.021807  </td><td>AAPL      </td><td>0         </td></tr>\n",
       "\t<tr><td>1980-12-16</td><td>10.111    </td><td>10.111    </td><td>10.062    </td><td>0.450893  </td><td> 26432000 </td><td>0.020206  </td><td>AAPL      </td><td>0         </td></tr>\n",
       "\t<tr><td>1980-12-17</td><td>10.311    </td><td>10.361    </td><td>10.311    </td><td>0.462054  </td><td> 21610400 </td><td>0.020706  </td><td>AAPL      </td><td>0         </td></tr>\n",
       "\t<tr><td>1980-12-18</td><td>10.609    </td><td>10.659    </td><td>10.609    </td><td>0.475446  </td><td> 18362400 </td><td>0.021307  </td><td>AAPL      </td><td>0         </td></tr>\n",
       "\t<tr><td>1980-12-19</td><td>11.257    </td><td>11.307    </td><td>11.257    </td><td>0.504464  </td><td> 12157600 </td><td>0.022607  </td><td>AAPL      </td><td>0         </td></tr>\n",
       "</tbody>\n",
       "</table>\n"
      ],
      "text/latex": [
       "\\begin{tabular}{r|lllllllll}\n",
       " Date & Open & High & Low & Close & Volume & Adjusted & Symbol & UpDown\\\\\n",
       "\\hline\n",
       "\t 1980-12-12 & 11.456     & 11.506     & 11.456     & 0.513393   & 117258400  & 0.023007   & AAPL       & 0         \\\\\n",
       "\t 1980-12-15 & 10.908     & 10.908     & 10.858     & 0.486607   &  43971200  & 0.021807   & AAPL       & 0         \\\\\n",
       "\t 1980-12-16 & 10.111     & 10.111     & 10.062     & 0.450893   &  26432000  & 0.020206   & AAPL       & 0         \\\\\n",
       "\t 1980-12-17 & 10.311     & 10.361     & 10.311     & 0.462054   &  21610400  & 0.020706   & AAPL       & 0         \\\\\n",
       "\t 1980-12-18 & 10.609     & 10.659     & 10.609     & 0.475446   &  18362400  & 0.021307   & AAPL       & 0         \\\\\n",
       "\t 1980-12-19 & 11.257     & 11.307     & 11.257     & 0.504464   &  12157600  & 0.022607   & AAPL       & 0         \\\\\n",
       "\\end{tabular}\n"
      ],
      "text/markdown": [
       "\n",
       "Date | Open | High | Low | Close | Volume | Adjusted | Symbol | UpDown | \n",
       "|---|---|---|---|---|---|\n",
       "| 1980-12-12 | 11.456     | 11.506     | 11.456     | 0.513393   | 117258400  | 0.023007   | AAPL       | 0          | \n",
       "| 1980-12-15 | 10.908     | 10.908     | 10.858     | 0.486607   |  43971200  | 0.021807   | AAPL       | 0          | \n",
       "| 1980-12-16 | 10.111     | 10.111     | 10.062     | 0.450893   |  26432000  | 0.020206   | AAPL       | 0          | \n",
       "| 1980-12-17 | 10.311     | 10.361     | 10.311     | 0.462054   |  21610400  | 0.020706   | AAPL       | 0          | \n",
       "| 1980-12-18 | 10.609     | 10.659     | 10.609     | 0.475446   |  18362400  | 0.021307   | AAPL       | 0          | \n",
       "| 1980-12-19 | 11.257     | 11.307     | 11.257     | 0.504464   |  12157600  | 0.022607   | AAPL       | 0          | \n",
       "\n",
       "\n"
      ],
      "text/plain": [
       "  Date       Open   High   Low    Close    Volume    Adjusted Symbol UpDown\n",
       "1 1980-12-12 11.456 11.506 11.456 0.513393 117258400 0.023007 AAPL   0     \n",
       "2 1980-12-15 10.908 10.908 10.858 0.486607  43971200 0.021807 AAPL   0     \n",
       "3 1980-12-16 10.111 10.111 10.062 0.450893  26432000 0.020206 AAPL   0     \n",
       "4 1980-12-17 10.311 10.361 10.311 0.462054  21610400 0.020706 AAPL   0     \n",
       "5 1980-12-18 10.609 10.659 10.609 0.475446  18362400 0.021307 AAPL   0     \n",
       "6 1980-12-19 11.257 11.307 11.257 0.504464  12157600 0.022607 AAPL   0     "
      ]
     },
     "metadata": {},
     "output_type": "display_data"
    }
   ],
   "source": [
    "df$UpDown <- ifelse (df$Open - df$Close >= 0, 0, 1)\n",
    "df$up_down <- NULL # To remove a column in R set it to NULL\n",
    "head(df)"
   ]
  },
  {
   "cell_type": "code",
   "execution_count": 61,
   "metadata": {},
   "outputs": [
    {
     "data": {
      "text/html": [
       "<table>\n",
       "<thead><tr><th scope=col>Date</th><th scope=col>Open</th><th scope=col>High</th><th scope=col>Low</th><th scope=col>Close</th><th scope=col>Volume</th><th scope=col>Adjusted</th><th scope=col>Symbol</th><th scope=col>UpDown</th><th scope=col>PercentChange</th></tr></thead>\n",
       "<tbody>\n",
       "\t<tr><td>1980-12-12</td><td>11.456    </td><td>11.506    </td><td>11.456    </td><td>0.513393  </td><td>117258400 </td><td>0.023007  </td><td>AAPL      </td><td>0         </td><td>-95.51857 </td></tr>\n",
       "\t<tr><td>1980-12-15</td><td>10.908    </td><td>10.908    </td><td>10.858    </td><td>0.486607  </td><td> 43971200 </td><td>0.021807  </td><td>AAPL      </td><td>0         </td><td>-95.53899 </td></tr>\n",
       "\t<tr><td>1980-12-16</td><td>10.111    </td><td>10.111    </td><td>10.062    </td><td>0.450893  </td><td> 26432000 </td><td>0.020206  </td><td>AAPL      </td><td>0         </td><td>-95.54057 </td></tr>\n",
       "\t<tr><td>1980-12-17</td><td>10.311    </td><td>10.361    </td><td>10.311    </td><td>0.462054  </td><td> 21610400 </td><td>0.020706  </td><td>AAPL      </td><td>0         </td><td>-95.51882 </td></tr>\n",
       "\t<tr><td>1980-12-18</td><td>10.609    </td><td>10.659    </td><td>10.609    </td><td>0.475446  </td><td> 18362400 </td><td>0.021307  </td><td>AAPL      </td><td>0         </td><td>-95.51847 </td></tr>\n",
       "\t<tr><td>1980-12-19</td><td>11.257    </td><td>11.307    </td><td>11.257    </td><td>0.504464  </td><td> 12157600 </td><td>0.022607  </td><td>AAPL      </td><td>0         </td><td>-95.51866 </td></tr>\n",
       "</tbody>\n",
       "</table>\n"
      ],
      "text/latex": [
       "\\begin{tabular}{r|llllllllll}\n",
       " Date & Open & High & Low & Close & Volume & Adjusted & Symbol & UpDown & PercentChange\\\\\n",
       "\\hline\n",
       "\t 1980-12-12 & 11.456     & 11.506     & 11.456     & 0.513393   & 117258400  & 0.023007   & AAPL       & 0          & -95.51857 \\\\\n",
       "\t 1980-12-15 & 10.908     & 10.908     & 10.858     & 0.486607   &  43971200  & 0.021807   & AAPL       & 0          & -95.53899 \\\\\n",
       "\t 1980-12-16 & 10.111     & 10.111     & 10.062     & 0.450893   &  26432000  & 0.020206   & AAPL       & 0          & -95.54057 \\\\\n",
       "\t 1980-12-17 & 10.311     & 10.361     & 10.311     & 0.462054   &  21610400  & 0.020706   & AAPL       & 0          & -95.51882 \\\\\n",
       "\t 1980-12-18 & 10.609     & 10.659     & 10.609     & 0.475446   &  18362400  & 0.021307   & AAPL       & 0          & -95.51847 \\\\\n",
       "\t 1980-12-19 & 11.257     & 11.307     & 11.257     & 0.504464   &  12157600  & 0.022607   & AAPL       & 0          & -95.51866 \\\\\n",
       "\\end{tabular}\n"
      ],
      "text/markdown": [
       "\n",
       "Date | Open | High | Low | Close | Volume | Adjusted | Symbol | UpDown | PercentChange | \n",
       "|---|---|---|---|---|---|\n",
       "| 1980-12-12 | 11.456     | 11.506     | 11.456     | 0.513393   | 117258400  | 0.023007   | AAPL       | 0          | -95.51857  | \n",
       "| 1980-12-15 | 10.908     | 10.908     | 10.858     | 0.486607   |  43971200  | 0.021807   | AAPL       | 0          | -95.53899  | \n",
       "| 1980-12-16 | 10.111     | 10.111     | 10.062     | 0.450893   |  26432000  | 0.020206   | AAPL       | 0          | -95.54057  | \n",
       "| 1980-12-17 | 10.311     | 10.361     | 10.311     | 0.462054   |  21610400  | 0.020706   | AAPL       | 0          | -95.51882  | \n",
       "| 1980-12-18 | 10.609     | 10.659     | 10.609     | 0.475446   |  18362400  | 0.021307   | AAPL       | 0          | -95.51847  | \n",
       "| 1980-12-19 | 11.257     | 11.307     | 11.257     | 0.504464   |  12157600  | 0.022607   | AAPL       | 0          | -95.51866  | \n",
       "\n",
       "\n"
      ],
      "text/plain": [
       "  Date       Open   High   Low    Close    Volume    Adjusted Symbol UpDown\n",
       "1 1980-12-12 11.456 11.506 11.456 0.513393 117258400 0.023007 AAPL   0     \n",
       "2 1980-12-15 10.908 10.908 10.858 0.486607  43971200 0.021807 AAPL   0     \n",
       "3 1980-12-16 10.111 10.111 10.062 0.450893  26432000 0.020206 AAPL   0     \n",
       "4 1980-12-17 10.311 10.361 10.311 0.462054  21610400 0.020706 AAPL   0     \n",
       "5 1980-12-18 10.609 10.659 10.609 0.475446  18362400 0.021307 AAPL   0     \n",
       "6 1980-12-19 11.257 11.307 11.257 0.504464  12157600 0.022607 AAPL   0     \n",
       "  PercentChange\n",
       "1 -95.51857    \n",
       "2 -95.53899    \n",
       "3 -95.54057    \n",
       "4 -95.51882    \n",
       "5 -95.51847    \n",
       "6 -95.51866    "
      ]
     },
     "metadata": {},
     "output_type": "display_data"
    }
   ],
   "source": [
    "df$PercentChange <- ((df$Close - df$Open)/df$Open) * 100\n",
    "head(df)\n"
   ]
  },
  {
   "cell_type": "code",
   "execution_count": 79,
   "metadata": {},
   "outputs": [
    {
     "data": {
      "text/html": [
       "9670"
      ],
      "text/latex": [
       "9670"
      ],
      "text/markdown": [
       "9670"
      ],
      "text/plain": [
       "[1] 9670"
      ]
     },
     "metadata": {},
     "output_type": "display_data"
    },
    {
     "data": {
      "text/html": [
       "<table>\n",
       "<thead><tr><th scope=col>Date</th><th scope=col>Open</th><th scope=col>High</th><th scope=col>Low</th><th scope=col>Close</th><th scope=col>Volume</th><th scope=col>Adjusted</th><th scope=col>Symbol</th><th scope=col>UpDown</th><th scope=col>PercentChange</th></tr></thead>\n",
       "<tbody>\n",
       "\t<tr><td>1980-12-12</td><td>11.456    </td><td>11.506    </td><td>11.456    </td><td>0.513393  </td><td>117258400 </td><td>0.023007  </td><td>AAPL      </td><td>0         </td><td>-95.51857 </td></tr>\n",
       "\t<tr><td>1980-12-15</td><td>10.908    </td><td>10.908    </td><td>10.858    </td><td>0.486607  </td><td> 43971200 </td><td>0.021807  </td><td>AAPL      </td><td>0         </td><td>-95.53899 </td></tr>\n",
       "\t<tr><td>1980-12-16</td><td>10.111    </td><td>10.111    </td><td>10.062    </td><td>0.450893  </td><td> 26432000 </td><td>0.020206  </td><td>AAPL      </td><td>0         </td><td>-95.54057 </td></tr>\n",
       "\t<tr><td>1980-12-17</td><td>10.311    </td><td>10.361    </td><td>10.311    </td><td>0.462054  </td><td> 21610400 </td><td>0.020706  </td><td>AAPL      </td><td>0         </td><td>-95.51882 </td></tr>\n",
       "\t<tr><td>1980-12-18</td><td>10.609    </td><td>10.659    </td><td>10.609    </td><td>0.475446  </td><td> 18362400 </td><td>0.021307  </td><td>AAPL      </td><td>0         </td><td>-95.51847 </td></tr>\n",
       "\t<tr><td>1980-12-19</td><td>11.257    </td><td>11.307    </td><td>11.257    </td><td>0.504464  </td><td> 12157600 </td><td>0.022607  </td><td>AAPL      </td><td>0         </td><td>-95.51866 </td></tr>\n",
       "</tbody>\n",
       "</table>\n"
      ],
      "text/latex": [
       "\\begin{tabular}{r|llllllllll}\n",
       " Date & Open & High & Low & Close & Volume & Adjusted & Symbol & UpDown & PercentChange\\\\\n",
       "\\hline\n",
       "\t 1980-12-12 & 11.456     & 11.506     & 11.456     & 0.513393   & 117258400  & 0.023007   & AAPL       & 0          & -95.51857 \\\\\n",
       "\t 1980-12-15 & 10.908     & 10.908     & 10.858     & 0.486607   &  43971200  & 0.021807   & AAPL       & 0          & -95.53899 \\\\\n",
       "\t 1980-12-16 & 10.111     & 10.111     & 10.062     & 0.450893   &  26432000  & 0.020206   & AAPL       & 0          & -95.54057 \\\\\n",
       "\t 1980-12-17 & 10.311     & 10.361     & 10.311     & 0.462054   &  21610400  & 0.020706   & AAPL       & 0          & -95.51882 \\\\\n",
       "\t 1980-12-18 & 10.609     & 10.659     & 10.609     & 0.475446   &  18362400  & 0.021307   & AAPL       & 0          & -95.51847 \\\\\n",
       "\t 1980-12-19 & 11.257     & 11.307     & 11.257     & 0.504464   &  12157600  & 0.022607   & AAPL       & 0          & -95.51866 \\\\\n",
       "\\end{tabular}\n"
      ],
      "text/markdown": [
       "\n",
       "Date | Open | High | Low | Close | Volume | Adjusted | Symbol | UpDown | PercentChange | \n",
       "|---|---|---|---|---|---|\n",
       "| 1980-12-12 | 11.456     | 11.506     | 11.456     | 0.513393   | 117258400  | 0.023007   | AAPL       | 0          | -95.51857  | \n",
       "| 1980-12-15 | 10.908     | 10.908     | 10.858     | 0.486607   |  43971200  | 0.021807   | AAPL       | 0          | -95.53899  | \n",
       "| 1980-12-16 | 10.111     | 10.111     | 10.062     | 0.450893   |  26432000  | 0.020206   | AAPL       | 0          | -95.54057  | \n",
       "| 1980-12-17 | 10.311     | 10.361     | 10.311     | 0.462054   |  21610400  | 0.020706   | AAPL       | 0          | -95.51882  | \n",
       "| 1980-12-18 | 10.609     | 10.659     | 10.609     | 0.475446   |  18362400  | 0.021307   | AAPL       | 0          | -95.51847  | \n",
       "| 1980-12-19 | 11.257     | 11.307     | 11.257     | 0.504464   |  12157600  | 0.022607   | AAPL       | 0          | -95.51866  | \n",
       "\n",
       "\n"
      ],
      "text/plain": [
       "  Date       Open   High   Low    Close    Volume    Adjusted Symbol UpDown\n",
       "1 1980-12-12 11.456 11.506 11.456 0.513393 117258400 0.023007 AAPL   0     \n",
       "2 1980-12-15 10.908 10.908 10.858 0.486607  43971200 0.021807 AAPL   0     \n",
       "3 1980-12-16 10.111 10.111 10.062 0.450893  26432000 0.020206 AAPL   0     \n",
       "4 1980-12-17 10.311 10.361 10.311 0.462054  21610400 0.020706 AAPL   0     \n",
       "5 1980-12-18 10.609 10.659 10.609 0.475446  18362400 0.021307 AAPL   0     \n",
       "6 1980-12-19 11.257 11.307 11.257 0.504464  12157600 0.022607 AAPL   0     \n",
       "  PercentChange\n",
       "1 -95.51857    \n",
       "2 -95.53899    \n",
       "3 -95.54057    \n",
       "4 -95.51882    \n",
       "5 -95.51847    \n",
       "6 -95.51866    "
      ]
     },
     "metadata": {},
     "output_type": "display_data"
    }
   ],
   "source": [
    "# Total number of rows in the data frame\n",
    "nrow(df)\n",
    "\n",
    "head(df)"
   ]
  },
  {
   "cell_type": "code",
   "execution_count": 90,
   "metadata": {},
   "outputs": [
    {
     "data": {
      "text/html": [
       "9670"
      ],
      "text/latex": [
       "9670"
      ],
      "text/markdown": [
       "9670"
      ],
      "text/plain": [
       "[1] 9670"
      ]
     },
     "metadata": {},
     "output_type": "display_data"
    },
    {
     "data": {
      "text/html": [
       "232.578"
      ],
      "text/latex": [
       "232.578"
      ],
      "text/markdown": [
       "232.578"
      ],
      "text/plain": [
       "[1] 232.578"
      ]
     },
     "metadata": {},
     "output_type": "display_data"
    },
    {
     "data": {
      "text/html": [
       "0.69"
      ],
      "text/latex": [
       "0.69"
      ],
      "text/markdown": [
       "0.69"
      ],
      "text/plain": [
       "[1] 0.69"
      ]
     },
     "metadata": {},
     "output_type": "display_data"
    },
    {
     "data": {
      "text/html": [
       "5.52854783262608"
      ],
      "text/latex": [
       "5.52854783262608"
      ],
      "text/markdown": [
       "5.52854783262608"
      ],
      "text/plain": [
       "[1] 5.528548"
      ]
     },
     "metadata": {},
     "output_type": "display_data"
    },
    {
     "data": {
      "text/html": [
       "-96.1559051635163"
      ],
      "text/latex": [
       "-96.1559051635163"
      ],
      "text/markdown": [
       "-96.1559051635163"
      ],
      "text/plain": [
       "[1] -96.15591"
      ]
     },
     "metadata": {},
     "output_type": "display_data"
    }
   ],
   "source": [
    "# total number of rows in the data frame\n",
    "nrow(is.na(df))\n",
    "\n",
    "# find the max open price for AAPL\n",
    "max(df$Open, na.rm=TRUE)\n",
    "\n",
    "# find the min open price for AAPL\n",
    "min(df$Open, na.rm=TRUE)\n",
    "\n",
    "# find the max Percent Change for AAPL\n",
    "max(df$PercentChange, na.rm=TRUE)\n",
    "\n",
    "# find the min Percent Change for AAPL\n",
    "min(df$PercentChange, na.rm=TRUE)\n",
    "\n"
   ]
  },
  {
   "cell_type": "code",
   "execution_count": 3,
   "metadata": {},
   "outputs": [
    {
     "ename": "ERROR",
     "evalue": "Error in df$Open: object of type 'closure' is not subsettable\n",
     "output_type": "error",
     "traceback": [
      "Error in df$Open: object of type 'closure' is not subsettable\nTraceback:\n"
     ]
    }
   ],
   "source": [
    "# find the row with the max open price for AAPL\n",
    "df[df$Open == max(df$Open, na.rm=TRUE),]\n",
    "\n",
    "# find the row with the lowest open price for AAPL\n",
    "df[df$Open == min(df$Open, na.rm=TRUE),]\n"
   ]
  },
  {
   "cell_type": "code",
   "execution_count": 93,
   "metadata": {},
   "outputs": [
    {
     "data": {
      "text/html": [
       "9669"
      ],
      "text/latex": [
       "9669"
      ],
      "text/markdown": [
       "9669"
      ],
      "text/plain": [
       "[1] 9669"
      ]
     },
     "metadata": {},
     "output_type": "display_data"
    },
    {
     "data": {
      "text/html": [
       "232.578"
      ],
      "text/latex": [
       "232.578"
      ],
      "text/markdown": [
       "232.578"
      ],
      "text/plain": [
       "[1] 232.578"
      ]
     },
     "metadata": {},
     "output_type": "display_data"
    },
    {
     "data": {
      "text/html": [
       "0.69"
      ],
      "text/latex": [
       "0.69"
      ],
      "text/markdown": [
       "0.69"
      ],
      "text/plain": [
       "[1] 0.69"
      ]
     },
     "metadata": {},
     "output_type": "display_data"
    },
    {
     "data": {
      "text/html": [
       "5.52854783262608"
      ],
      "text/latex": [
       "5.52854783262608"
      ],
      "text/markdown": [
       "5.52854783262608"
      ],
      "text/plain": [
       "[1] 5.528548"
      ]
     },
     "metadata": {},
     "output_type": "display_data"
    },
    {
     "data": {
      "text/html": [
       "-96.1559051635163"
      ],
      "text/latex": [
       "-96.1559051635163"
      ],
      "text/markdown": [
       "-96.1559051635163"
      ],
      "text/plain": [
       "[1] -96.15591"
      ]
     },
     "metadata": {},
     "output_type": "display_data"
    }
   ],
   "source": [
    "df.omit <- na.omit(df)\n",
    "\n",
    "# total number of rows in the data frame\n",
    "nrow(is.na(df.omit))\n",
    "\n",
    "# find the max open price for AAPL\n",
    "max(df.omit$Open, na.rm=TRUE)\n",
    "\n",
    "# find the min open price for AAPL\n",
    "min(df.omit$Open, na.rm=TRUE)\n",
    "\n",
    "# find the max Percent Change for AAPL\n",
    "max(df.omit$PercentChange, na.rm=TRUE)\n",
    "\n",
    "# find the min Percent Change for AAPL\n",
    "min(df.omit$PercentChange, na.rm=TRUE)\n"
   ]
  },
  {
   "cell_type": "code",
   "execution_count": 94,
   "metadata": {},
   "outputs": [
    {
     "data": {
      "text/html": [
       "<table>\n",
       "<thead><tr><th></th><th scope=col>Date</th><th scope=col>Open</th><th scope=col>High</th><th scope=col>Low</th><th scope=col>Close</th><th scope=col>Volume</th><th scope=col>Adjusted</th><th scope=col>Symbol</th><th scope=col>UpDown</th><th scope=col>PercentChange</th></tr></thead>\n",
       "<tbody>\n",
       "\t<tr><th scope=row>1732</th><td>1987-10-19</td><td>33.911    </td><td>33.911    </td><td>24.95     </td><td>1.303571  </td><td>1.19e+08  </td><td>0.066242  </td><td>AAPL      </td><td>0         </td><td>-96.15591 </td></tr>\n",
       "</tbody>\n",
       "</table>\n"
      ],
      "text/latex": [
       "\\begin{tabular}{r|llllllllll}\n",
       "  & Date & Open & High & Low & Close & Volume & Adjusted & Symbol & UpDown & PercentChange\\\\\n",
       "\\hline\n",
       "\t1732 & 1987-10-19 & 33.911     & 33.911     & 24.95      & 1.303571   & 1.19e+08   & 0.066242   & AAPL       & 0          & -96.15591 \\\\\n",
       "\\end{tabular}\n"
      ],
      "text/markdown": [
       "\n",
       "| <!--/--> | Date | Open | High | Low | Close | Volume | Adjusted | Symbol | UpDown | PercentChange | \n",
       "|---|\n",
       "| 1732 | 1987-10-19 | 33.911     | 33.911     | 24.95      | 1.303571   | 1.19e+08   | 0.066242   | AAPL       | 0          | -96.15591  | \n",
       "\n",
       "\n"
      ],
      "text/plain": [
       "     Date       Open   High   Low   Close    Volume   Adjusted Symbol UpDown\n",
       "1732 1987-10-19 33.911 33.911 24.95 1.303571 1.19e+08 0.066242 AAPL   0     \n",
       "     PercentChange\n",
       "1732 -96.15591    "
      ]
     },
     "metadata": {},
     "output_type": "display_data"
    }
   ],
   "source": [
    "# When was the worst time for AAPL stock?\n",
    "df.omit[df.omit$PercentChange == min(df.omit$PercentChange, na.rm=TRUE),]"
   ]
  },
  {
   "cell_type": "markdown",
   "metadata": {},
   "source": [
    "<h3>Answer:</h3>\n",
    "October 19, 1987 \n",
    "https://www.forbes.com/sites/johndobosz/2012/10/19/crash-of-1987-haunts-this-october-stock-market/#6b7f36615e8e <br>"
   ]
  },
  {
   "cell_type": "code",
   "execution_count": 89,
   "metadata": {},
   "outputs": [
    {
     "data": {
      "text/html": [
       "<table>\n",
       "<thead><tr><th scope=col>Date</th><th scope=col>Open</th><th scope=col>High</th><th scope=col>Low</th><th scope=col>Close</th><th scope=col>Volume</th><th scope=col>Adjusted</th><th scope=col>Symbol</th><th scope=col>UpDown</th><th scope=col>PercentChange</th></tr></thead>\n",
       "<tbody>\n",
       "\t<tr><td>1980-12-12</td><td>11.456    </td><td>11.506    </td><td>11.456    </td><td>0.513393  </td><td>117258400 </td><td>0.023007  </td><td>AAPL      </td><td>0         </td><td>-95.51857 </td></tr>\n",
       "\t<tr><td>1980-12-15</td><td>10.908    </td><td>10.908    </td><td>10.858    </td><td>0.486607  </td><td> 43971200 </td><td>0.021807  </td><td>AAPL      </td><td>0         </td><td>-95.53899 </td></tr>\n",
       "\t<tr><td>1980-12-16</td><td>10.111    </td><td>10.111    </td><td>10.062    </td><td>0.450893  </td><td> 26432000 </td><td>0.020206  </td><td>AAPL      </td><td>0         </td><td>-95.54057 </td></tr>\n",
       "\t<tr><td>1980-12-17</td><td>10.311    </td><td>10.361    </td><td>10.311    </td><td>0.462054  </td><td> 21610400 </td><td>0.020706  </td><td>AAPL      </td><td>0         </td><td>-95.51882 </td></tr>\n",
       "\t<tr><td>1980-12-18</td><td>10.609    </td><td>10.659    </td><td>10.609    </td><td>0.475446  </td><td> 18362400 </td><td>0.021307  </td><td>AAPL      </td><td>0         </td><td>-95.51847 </td></tr>\n",
       "\t<tr><td>1980-12-19</td><td>11.257    </td><td>11.307    </td><td>11.257    </td><td>0.504464  </td><td> 12157600 </td><td>0.022607  </td><td>AAPL      </td><td>0         </td><td>-95.51866 </td></tr>\n",
       "</tbody>\n",
       "</table>\n"
      ],
      "text/latex": [
       "\\begin{tabular}{r|llllllllll}\n",
       " Date & Open & High & Low & Close & Volume & Adjusted & Symbol & UpDown & PercentChange\\\\\n",
       "\\hline\n",
       "\t 1980-12-12 & 11.456     & 11.506     & 11.456     & 0.513393   & 117258400  & 0.023007   & AAPL       & 0          & -95.51857 \\\\\n",
       "\t 1980-12-15 & 10.908     & 10.908     & 10.858     & 0.486607   &  43971200  & 0.021807   & AAPL       & 0          & -95.53899 \\\\\n",
       "\t 1980-12-16 & 10.111     & 10.111     & 10.062     & 0.450893   &  26432000  & 0.020206   & AAPL       & 0          & -95.54057 \\\\\n",
       "\t 1980-12-17 & 10.311     & 10.361     & 10.311     & 0.462054   &  21610400  & 0.020706   & AAPL       & 0          & -95.51882 \\\\\n",
       "\t 1980-12-18 & 10.609     & 10.659     & 10.609     & 0.475446   &  18362400  & 0.021307   & AAPL       & 0          & -95.51847 \\\\\n",
       "\t 1980-12-19 & 11.257     & 11.307     & 11.257     & 0.504464   &  12157600  & 0.022607   & AAPL       & 0          & -95.51866 \\\\\n",
       "\\end{tabular}\n"
      ],
      "text/markdown": [
       "\n",
       "Date | Open | High | Low | Close | Volume | Adjusted | Symbol | UpDown | PercentChange | \n",
       "|---|---|---|---|---|---|\n",
       "| 1980-12-12 | 11.456     | 11.506     | 11.456     | 0.513393   | 117258400  | 0.023007   | AAPL       | 0          | -95.51857  | \n",
       "| 1980-12-15 | 10.908     | 10.908     | 10.858     | 0.486607   |  43971200  | 0.021807   | AAPL       | 0          | -95.53899  | \n",
       "| 1980-12-16 | 10.111     | 10.111     | 10.062     | 0.450893   |  26432000  | 0.020206   | AAPL       | 0          | -95.54057  | \n",
       "| 1980-12-17 | 10.311     | 10.361     | 10.311     | 0.462054   |  21610400  | 0.020706   | AAPL       | 0          | -95.51882  | \n",
       "| 1980-12-18 | 10.609     | 10.659     | 10.609     | 0.475446   |  18362400  | 0.021307   | AAPL       | 0          | -95.51847  | \n",
       "| 1980-12-19 | 11.257     | 11.307     | 11.257     | 0.504464   |  12157600  | 0.022607   | AAPL       | 0          | -95.51866  | \n",
       "\n",
       "\n"
      ],
      "text/plain": [
       "  Date       Open   High   Low    Close    Volume    Adjusted Symbol UpDown\n",
       "1 1980-12-12 11.456 11.506 11.456 0.513393 117258400 0.023007 AAPL   0     \n",
       "2 1980-12-15 10.908 10.908 10.858 0.486607  43971200 0.021807 AAPL   0     \n",
       "3 1980-12-16 10.111 10.111 10.062 0.450893  26432000 0.020206 AAPL   0     \n",
       "4 1980-12-17 10.311 10.361 10.311 0.462054  21610400 0.020706 AAPL   0     \n",
       "5 1980-12-18 10.609 10.659 10.609 0.475446  18362400 0.021307 AAPL   0     \n",
       "6 1980-12-19 11.257 11.307 11.257 0.504464  12157600 0.022607 AAPL   0     \n",
       "  PercentChange\n",
       "1 -95.51857    \n",
       "2 -95.53899    \n",
       "3 -95.54057    \n",
       "4 -95.51882    \n",
       "5 -95.51847    \n",
       "6 -95.51866    "
      ]
     },
     "metadata": {},
     "output_type": "display_data"
    }
   ],
   "source": [
    "head(df.omit)"
   ]
  },
  {
   "cell_type": "code",
   "execution_count": 97,
   "metadata": {},
   "outputs": [],
   "source": [
    "# syntax to get the help page for getSymbols() function in from quantmod\n",
    "?getSymbols"
   ]
  },
  {
   "cell_type": "code",
   "execution_count": 98,
   "metadata": {},
   "outputs": [
    {
     "data": {
      "text/html": [
       "<ol class=list-inline>\n",
       "\t<li>9670</li>\n",
       "\t<li>10</li>\n",
       "</ol>\n"
      ],
      "text/latex": [
       "\\begin{enumerate*}\n",
       "\\item 9670\n",
       "\\item 10\n",
       "\\end{enumerate*}\n"
      ],
      "text/markdown": [
       "1. 9670\n",
       "2. 10\n",
       "\n",
       "\n"
      ],
      "text/plain": [
       "[1] 9670   10"
      ]
     },
     "metadata": {},
     "output_type": "display_data"
    }
   ],
   "source": [
    "# Get the dimension of the dataframe\n",
    "dim(df)"
   ]
  },
  {
   "cell_type": "markdown",
   "metadata": {},
   "source": [
    "Answer: 9670 rows with 10 columns or variables"
   ]
  },
  {
   "cell_type": "code",
   "execution_count": 100,
   "metadata": {},
   "outputs": [
    {
     "data": {
      "text/html": [
       "<table>\n",
       "<thead><tr><th scope=col>Date</th><th scope=col>Open</th><th scope=col>High</th><th scope=col>Low</th><th scope=col>Close</th><th scope=col>Volume</th><th scope=col>Adjusted</th><th scope=col>Symbol</th><th scope=col>UpDown</th><th scope=col>PercentChange</th><th scope=col>DayOfWeek</th></tr></thead>\n",
       "<tbody>\n",
       "\t<tr><td>1980-12-12</td><td>11.456    </td><td>11.506    </td><td>11.456    </td><td>0.513393  </td><td>117258400 </td><td>0.023007  </td><td>AAPL      </td><td>0         </td><td>-95.51857 </td><td>Friday    </td></tr>\n",
       "\t<tr><td>1980-12-15</td><td>10.908    </td><td>10.908    </td><td>10.858    </td><td>0.486607  </td><td> 43971200 </td><td>0.021807  </td><td>AAPL      </td><td>0         </td><td>-95.53899 </td><td>Monday    </td></tr>\n",
       "\t<tr><td>1980-12-16</td><td>10.111    </td><td>10.111    </td><td>10.062    </td><td>0.450893  </td><td> 26432000 </td><td>0.020206  </td><td>AAPL      </td><td>0         </td><td>-95.54057 </td><td>Tuesday   </td></tr>\n",
       "\t<tr><td>1980-12-17</td><td>10.311    </td><td>10.361    </td><td>10.311    </td><td>0.462054  </td><td> 21610400 </td><td>0.020706  </td><td>AAPL      </td><td>0         </td><td>-95.51882 </td><td>Wednesday </td></tr>\n",
       "\t<tr><td>1980-12-18</td><td>10.609    </td><td>10.659    </td><td>10.609    </td><td>0.475446  </td><td> 18362400 </td><td>0.021307  </td><td>AAPL      </td><td>0         </td><td>-95.51847 </td><td>Thursday  </td></tr>\n",
       "\t<tr><td>1980-12-19</td><td>11.257    </td><td>11.307    </td><td>11.257    </td><td>0.504464  </td><td> 12157600 </td><td>0.022607  </td><td>AAPL      </td><td>0         </td><td>-95.51866 </td><td>Friday    </td></tr>\n",
       "</tbody>\n",
       "</table>\n"
      ],
      "text/latex": [
       "\\begin{tabular}{r|lllllllllll}\n",
       " Date & Open & High & Low & Close & Volume & Adjusted & Symbol & UpDown & PercentChange & DayOfWeek\\\\\n",
       "\\hline\n",
       "\t 1980-12-12 & 11.456     & 11.506     & 11.456     & 0.513393   & 117258400  & 0.023007   & AAPL       & 0          & -95.51857  & Friday    \\\\\n",
       "\t 1980-12-15 & 10.908     & 10.908     & 10.858     & 0.486607   &  43971200  & 0.021807   & AAPL       & 0          & -95.53899  & Monday    \\\\\n",
       "\t 1980-12-16 & 10.111     & 10.111     & 10.062     & 0.450893   &  26432000  & 0.020206   & AAPL       & 0          & -95.54057  & Tuesday   \\\\\n",
       "\t 1980-12-17 & 10.311     & 10.361     & 10.311     & 0.462054   &  21610400  & 0.020706   & AAPL       & 0          & -95.51882  & Wednesday \\\\\n",
       "\t 1980-12-18 & 10.609     & 10.659     & 10.609     & 0.475446   &  18362400  & 0.021307   & AAPL       & 0          & -95.51847  & Thursday  \\\\\n",
       "\t 1980-12-19 & 11.257     & 11.307     & 11.257     & 0.504464   &  12157600  & 0.022607   & AAPL       & 0          & -95.51866  & Friday    \\\\\n",
       "\\end{tabular}\n"
      ],
      "text/markdown": [
       "\n",
       "Date | Open | High | Low | Close | Volume | Adjusted | Symbol | UpDown | PercentChange | DayOfWeek | \n",
       "|---|---|---|---|---|---|\n",
       "| 1980-12-12 | 11.456     | 11.506     | 11.456     | 0.513393   | 117258400  | 0.023007   | AAPL       | 0          | -95.51857  | Friday     | \n",
       "| 1980-12-15 | 10.908     | 10.908     | 10.858     | 0.486607   |  43971200  | 0.021807   | AAPL       | 0          | -95.53899  | Monday     | \n",
       "| 1980-12-16 | 10.111     | 10.111     | 10.062     | 0.450893   |  26432000  | 0.020206   | AAPL       | 0          | -95.54057  | Tuesday    | \n",
       "| 1980-12-17 | 10.311     | 10.361     | 10.311     | 0.462054   |  21610400  | 0.020706   | AAPL       | 0          | -95.51882  | Wednesday  | \n",
       "| 1980-12-18 | 10.609     | 10.659     | 10.609     | 0.475446   |  18362400  | 0.021307   | AAPL       | 0          | -95.51847  | Thursday   | \n",
       "| 1980-12-19 | 11.257     | 11.307     | 11.257     | 0.504464   |  12157600  | 0.022607   | AAPL       | 0          | -95.51866  | Friday     | \n",
       "\n",
       "\n"
      ],
      "text/plain": [
       "  Date       Open   High   Low    Close    Volume    Adjusted Symbol UpDown\n",
       "1 1980-12-12 11.456 11.506 11.456 0.513393 117258400 0.023007 AAPL   0     \n",
       "2 1980-12-15 10.908 10.908 10.858 0.486607  43971200 0.021807 AAPL   0     \n",
       "3 1980-12-16 10.111 10.111 10.062 0.450893  26432000 0.020206 AAPL   0     \n",
       "4 1980-12-17 10.311 10.361 10.311 0.462054  21610400 0.020706 AAPL   0     \n",
       "5 1980-12-18 10.609 10.659 10.609 0.475446  18362400 0.021307 AAPL   0     \n",
       "6 1980-12-19 11.257 11.307 11.257 0.504464  12157600 0.022607 AAPL   0     \n",
       "  PercentChange DayOfWeek\n",
       "1 -95.51857     Friday   \n",
       "2 -95.53899     Monday   \n",
       "3 -95.54057     Tuesday  \n",
       "4 -95.51882     Wednesday\n",
       "5 -95.51847     Thursday \n",
       "6 -95.51866     Friday   "
      ]
     },
     "metadata": {},
     "output_type": "display_data"
    }
   ],
   "source": [
    "# Add a new column DayOfWeek to the data frame\n",
    "df$DayOfWeek <- weekdays(as.Date(df$Date))\n",
    "head(df)"
   ]
  },
  {
   "cell_type": "markdown",
   "metadata": {},
   "source": [
    "<h3> Questions:</h3>\n",
    "<ul>\n",
    "    <li> How many times was AAPL up throughout history? </li>\n",
    "    <li> How many times was AAPL down throught history? </li>\n",
    "</ul>"
   ]
  },
  {
   "cell_type": "code",
   "execution_count": 103,
   "metadata": {},
   "outputs": [
    {
     "data": {},
     "metadata": {},
     "output_type": "display_data"
    },
    {
     "data": {
      "image/png": "[encoded data removed]",
      "text/plain": [
       "plot without title"
      ]
     },
     "metadata": {},
     "output_type": "display_data"
    }
   ],
   "source": [
    "library(ggplot2)\n",
    "\n",
    "# counts (or sums of weights)\n",
    "g <- ggplot(df, aes(DayOfWeek))\n",
    "# Number of cars in each class:\n",
    "g + geom_bar()"
   ]
  },
  {
   "cell_type": "code",
   "execution_count": null,
   "metadata": {},
   "outputs": [],
   "source": []
  }
 ],
 "metadata": {
  "kernelspec": {
   "display_name": "R",
   "language": "R",
   "name": "ir"
  },
  "language_info": {
   "codemirror_mode": "r",
   "file_extension": ".r",
   "mimetype": "text/x-r-source",
   "name": "R",
   "pygments_lexer": "r",
   "version": "3.4.3"
  }
 },
 "nbformat": 4,
 "nbformat_minor": 2
}
