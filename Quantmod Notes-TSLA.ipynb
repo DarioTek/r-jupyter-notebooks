{
 "cells": [
  {
   "cell_type": "markdown",
   "metadata": {},
   "source": [
    "<hr>\n",
    "<h1>Reference:</h1>\n",
    "https://stats.stackexchange.com/questions/8407/import-stock-price-from-yahoo-finance-into-r <br>\n",
    "https://cran.r-project.org/web/packages/quantmod/quantmod.pdf <br>\n",
    "<hr>"
   ]
  },
  {
   "cell_type": "code",
   "execution_count": null,
   "metadata": {},
   "outputs": [],
   "source": [
    "# Get quantmod\n",
    "if (!require(\"quantmod\")) {\n",
    "    install.packages(\"quantmod\")\n",
    "    library(quantmod)\n",
    "}\n",
    "\n",
    "start <- as.Date(\"2021-01-01\")\n",
    "end <- as.Date(\"2021-04-14\")\n",
    "\n",
    "# Let's get Apple stock data; Apple's ticker symbol is AAPL. We use the\n",
    "# quantmod function getSymbols, and pass a string as a first argument to\n",
    "# identify the desired ticker symbol, pass 'yahoo' to src for Yahoo!\n",
    "# Finance, and from and to specify date ranges\n",
    "\n",
    "# The default behavior for getSymbols is to load data directly into the\n",
    "# global environment, with the object being named after the loaded ticker\n",
    "# symbol. This feature may become deprecated in the future, but we exploit\n",
    "# it now.\n",
    "\n",
    "getSymbols(\"TSLA\", src = \"yahoo\", from = start, to = end)"
   ]
  },
  {
   "cell_type": "code",
   "execution_count": 4,
   "metadata": {},
   "outputs": [
    {
     "data": {
      "text/html": [
       "<ol class=list-inline>\n",
       "\t<li>'xts'</li>\n",
       "\t<li>'zoo'</li>\n",
       "</ol>\n"
      ],
      "text/latex": [
       "\\begin{enumerate*}\n",
       "\\item 'xts'\n",
       "\\item 'zoo'\n",
       "\\end{enumerate*}\n"
      ],
      "text/markdown": [
       "1. 'xts'\n",
       "2. 'zoo'\n",
       "\n",
       "\n"
      ],
      "text/plain": [
       "[1] \"xts\" \"zoo\""
      ]
     },
     "metadata": {},
     "output_type": "display_data"
    }
   ],
   "source": [
    "class(TSLA)"
   ]
  },
  {
   "cell_type": "code",
   "execution_count": 5,
   "metadata": {},
   "outputs": [
    {
     "data": {
      "image/png": "[encoded data removed]",
      "text/plain": [
       "Plot with title \"[2021-01-04/2021-04-13]\""
      ]
     },
     "metadata": {},
     "output_type": "display_data"
    }
   ],
   "source": [
    "candleChart(TSLA, up.col='green', down.col='red', theme='white')"
   ]
  },
  {
   "cell_type": "code",
   "execution_count": 6,
   "metadata": {},
   "outputs": [],
   "source": [
    "# convert AAPL xts objecct to a dataframe called df\n",
    "# also convert the index to a column calledS date into the data frame\n",
    "df <- data.frame(date=index(TSLA), coredata(TSLA))"
   ]
  },
  {
   "cell_type": "code",
   "execution_count": 7,
   "metadata": {},
   "outputs": [
    {
     "data": {
      "text/html": [
       "<table>\n",
       "<thead><tr><th scope=col>date</th><th scope=col>TSLA.Open</th><th scope=col>TSLA.High</th><th scope=col>TSLA.Low</th><th scope=col>TSLA.Close</th><th scope=col>TSLA.Volume</th><th scope=col>TSLA.Adjusted</th></tr></thead>\n",
       "<tbody>\n",
       "\t<tr><td>2021-01-04</td><td>719.46    </td><td>744.49    </td><td>717.19    </td><td>729.77    </td><td>48638200  </td><td>729.77    </td></tr>\n",
       "\t<tr><td>2021-01-05</td><td>723.66    </td><td>740.84    </td><td>719.20    </td><td>735.11    </td><td>32245200  </td><td>735.11    </td></tr>\n",
       "\t<tr><td>2021-01-06</td><td>758.49    </td><td>774.00    </td><td>749.10    </td><td>755.98    </td><td>44700000  </td><td>755.98    </td></tr>\n",
       "\t<tr><td>2021-01-07</td><td>777.63    </td><td>816.99    </td><td>775.20    </td><td>816.04    </td><td>51498900  </td><td>816.04    </td></tr>\n",
       "\t<tr><td>2021-01-08</td><td>856.00    </td><td>884.49    </td><td>838.39    </td><td>880.02    </td><td>75055500  </td><td>880.02    </td></tr>\n",
       "\t<tr><td>2021-01-11</td><td>849.40    </td><td>854.43    </td><td>803.62    </td><td>811.19    </td><td>59301600  </td><td>811.19    </td></tr>\n",
       "</tbody>\n",
       "</table>\n"
      ],
      "text/latex": [
       "\\begin{tabular}{r|lllllll}\n",
       " date & TSLA.Open & TSLA.High & TSLA.Low & TSLA.Close & TSLA.Volume & TSLA.Adjusted\\\\\n",
       "\\hline\n",
       "\t 2021-01-04 & 719.46     & 744.49     & 717.19     & 729.77     & 48638200   & 729.77    \\\\\n",
       "\t 2021-01-05 & 723.66     & 740.84     & 719.20     & 735.11     & 32245200   & 735.11    \\\\\n",
       "\t 2021-01-06 & 758.49     & 774.00     & 749.10     & 755.98     & 44700000   & 755.98    \\\\\n",
       "\t 2021-01-07 & 777.63     & 816.99     & 775.20     & 816.04     & 51498900   & 816.04    \\\\\n",
       "\t 2021-01-08 & 856.00     & 884.49     & 838.39     & 880.02     & 75055500   & 880.02    \\\\\n",
       "\t 2021-01-11 & 849.40     & 854.43     & 803.62     & 811.19     & 59301600   & 811.19    \\\\\n",
       "\\end{tabular}\n"
      ],
      "text/markdown": [
       "\n",
       "date | TSLA.Open | TSLA.High | TSLA.Low | TSLA.Close | TSLA.Volume | TSLA.Adjusted | \n",
       "|---|---|---|---|---|---|\n",
       "| 2021-01-04 | 719.46     | 744.49     | 717.19     | 729.77     | 48638200   | 729.77     | \n",
       "| 2021-01-05 | 723.66     | 740.84     | 719.20     | 735.11     | 32245200   | 735.11     | \n",
       "| 2021-01-06 | 758.49     | 774.00     | 749.10     | 755.98     | 44700000   | 755.98     | \n",
       "| 2021-01-07 | 777.63     | 816.99     | 775.20     | 816.04     | 51498900   | 816.04     | \n",
       "| 2021-01-08 | 856.00     | 884.49     | 838.39     | 880.02     | 75055500   | 880.02     | \n",
       "| 2021-01-11 | 849.40     | 854.43     | 803.62     | 811.19     | 59301600   | 811.19     | \n",
       "\n",
       "\n"
      ],
      "text/plain": [
       "  date       TSLA.Open TSLA.High TSLA.Low TSLA.Close TSLA.Volume TSLA.Adjusted\n",
       "1 2021-01-04 719.46    744.49    717.19   729.77     48638200    729.77       \n",
       "2 2021-01-05 723.66    740.84    719.20   735.11     32245200    735.11       \n",
       "3 2021-01-06 758.49    774.00    749.10   755.98     44700000    755.98       \n",
       "4 2021-01-07 777.63    816.99    775.20   816.04     51498900    816.04       \n",
       "5 2021-01-08 856.00    884.49    838.39   880.02     75055500    880.02       \n",
       "6 2021-01-11 849.40    854.43    803.62   811.19     59301600    811.19       "
      ]
     },
     "metadata": {},
     "output_type": "display_data"
    }
   ],
   "source": [
    "head(df)"
   ]
  },
  {
   "cell_type": "markdown",
   "metadata": {},
   "source": [
    "# renaming columns in R\n",
    "http://rprogramming.net/rename-columns-in-r/"
   ]
  },
  {
   "cell_type": "code",
   "execution_count": 8,
   "metadata": {},
   "outputs": [
    {
     "data": {
      "text/html": [
       "<table>\n",
       "<thead><tr><th scope=col>Date</th><th scope=col>Open</th><th scope=col>High</th><th scope=col>Low</th><th scope=col>Close</th><th scope=col>Volume</th><th scope=col>Adjusted</th></tr></thead>\n",
       "<tbody>\n",
       "\t<tr><td>2021-01-04</td><td>719.46    </td><td>744.49    </td><td>717.19    </td><td>729.77    </td><td>48638200  </td><td>729.77    </td></tr>\n",
       "\t<tr><td>2021-01-05</td><td>723.66    </td><td>740.84    </td><td>719.20    </td><td>735.11    </td><td>32245200  </td><td>735.11    </td></tr>\n",
       "\t<tr><td>2021-01-06</td><td>758.49    </td><td>774.00    </td><td>749.10    </td><td>755.98    </td><td>44700000  </td><td>755.98    </td></tr>\n",
       "\t<tr><td>2021-01-07</td><td>777.63    </td><td>816.99    </td><td>775.20    </td><td>816.04    </td><td>51498900  </td><td>816.04    </td></tr>\n",
       "\t<tr><td>2021-01-08</td><td>856.00    </td><td>884.49    </td><td>838.39    </td><td>880.02    </td><td>75055500  </td><td>880.02    </td></tr>\n",
       "\t<tr><td>2021-01-11</td><td>849.40    </td><td>854.43    </td><td>803.62    </td><td>811.19    </td><td>59301600  </td><td>811.19    </td></tr>\n",
       "</tbody>\n",
       "</table>\n"
      ],
      "text/latex": [
       "\\begin{tabular}{r|lllllll}\n",
       " Date & Open & High & Low & Close & Volume & Adjusted\\\\\n",
       "\\hline\n",
       "\t 2021-01-04 & 719.46     & 744.49     & 717.19     & 729.77     & 48638200   & 729.77    \\\\\n",
       "\t 2021-01-05 & 723.66     & 740.84     & 719.20     & 735.11     & 32245200   & 735.11    \\\\\n",
       "\t 2021-01-06 & 758.49     & 774.00     & 749.10     & 755.98     & 44700000   & 755.98    \\\\\n",
       "\t 2021-01-07 & 777.63     & 816.99     & 775.20     & 816.04     & 51498900   & 816.04    \\\\\n",
       "\t 2021-01-08 & 856.00     & 884.49     & 838.39     & 880.02     & 75055500   & 880.02    \\\\\n",
       "\t 2021-01-11 & 849.40     & 854.43     & 803.62     & 811.19     & 59301600   & 811.19    \\\\\n",
       "\\end{tabular}\n"
      ],
      "text/markdown": [
       "\n",
       "Date | Open | High | Low | Close | Volume | Adjusted | \n",
       "|---|---|---|---|---|---|\n",
       "| 2021-01-04 | 719.46     | 744.49     | 717.19     | 729.77     | 48638200   | 729.77     | \n",
       "| 2021-01-05 | 723.66     | 740.84     | 719.20     | 735.11     | 32245200   | 735.11     | \n",
       "| 2021-01-06 | 758.49     | 774.00     | 749.10     | 755.98     | 44700000   | 755.98     | \n",
       "| 2021-01-07 | 777.63     | 816.99     | 775.20     | 816.04     | 51498900   | 816.04     | \n",
       "| 2021-01-08 | 856.00     | 884.49     | 838.39     | 880.02     | 75055500   | 880.02     | \n",
       "| 2021-01-11 | 849.40     | 854.43     | 803.62     | 811.19     | 59301600   | 811.19     | \n",
       "\n",
       "\n"
      ],
      "text/plain": [
       "  Date       Open   High   Low    Close  Volume   Adjusted\n",
       "1 2021-01-04 719.46 744.49 717.19 729.77 48638200 729.77  \n",
       "2 2021-01-05 723.66 740.84 719.20 735.11 32245200 735.11  \n",
       "3 2021-01-06 758.49 774.00 749.10 755.98 44700000 755.98  \n",
       "4 2021-01-07 777.63 816.99 775.20 816.04 51498900 816.04  \n",
       "5 2021-01-08 856.00 884.49 838.39 880.02 75055500 880.02  \n",
       "6 2021-01-11 849.40 854.43 803.62 811.19 59301600 811.19  "
      ]
     },
     "metadata": {},
     "output_type": "display_data"
    }
   ],
   "source": [
    "names(df) <- c(\"Date\", \"Open\", \"High\", \"Low\", \"Close\", \"Volume\", \"Adjusted\")\n",
    "head(df)"
   ]
  },
  {
   "cell_type": "code",
   "execution_count": 9,
   "metadata": {},
   "outputs": [
    {
     "data": {
      "text/html": [
       "<table>\n",
       "<thead><tr><th scope=col>Date</th><th scope=col>Open</th><th scope=col>High</th><th scope=col>Low</th><th scope=col>Close</th><th scope=col>Volume</th><th scope=col>Adjusted</th><th scope=col>Symbol</th></tr></thead>\n",
       "<tbody>\n",
       "\t<tr><td>2021-01-04</td><td>719.46    </td><td>744.49    </td><td>717.19    </td><td>729.77    </td><td>48638200  </td><td>729.77    </td><td>TSLA      </td></tr>\n",
       "\t<tr><td>2021-01-05</td><td>723.66    </td><td>740.84    </td><td>719.20    </td><td>735.11    </td><td>32245200  </td><td>735.11    </td><td>TSLA      </td></tr>\n",
       "\t<tr><td>2021-01-06</td><td>758.49    </td><td>774.00    </td><td>749.10    </td><td>755.98    </td><td>44700000  </td><td>755.98    </td><td>TSLA      </td></tr>\n",
       "\t<tr><td>2021-01-07</td><td>777.63    </td><td>816.99    </td><td>775.20    </td><td>816.04    </td><td>51498900  </td><td>816.04    </td><td>TSLA      </td></tr>\n",
       "\t<tr><td>2021-01-08</td><td>856.00    </td><td>884.49    </td><td>838.39    </td><td>880.02    </td><td>75055500  </td><td>880.02    </td><td>TSLA      </td></tr>\n",
       "\t<tr><td>2021-01-11</td><td>849.40    </td><td>854.43    </td><td>803.62    </td><td>811.19    </td><td>59301600  </td><td>811.19    </td><td>TSLA      </td></tr>\n",
       "</tbody>\n",
       "</table>\n"
      ],
      "text/latex": [
       "\\begin{tabular}{r|llllllll}\n",
       " Date & Open & High & Low & Close & Volume & Adjusted & Symbol\\\\\n",
       "\\hline\n",
       "\t 2021-01-04 & 719.46     & 744.49     & 717.19     & 729.77     & 48638200   & 729.77     & TSLA      \\\\\n",
       "\t 2021-01-05 & 723.66     & 740.84     & 719.20     & 735.11     & 32245200   & 735.11     & TSLA      \\\\\n",
       "\t 2021-01-06 & 758.49     & 774.00     & 749.10     & 755.98     & 44700000   & 755.98     & TSLA      \\\\\n",
       "\t 2021-01-07 & 777.63     & 816.99     & 775.20     & 816.04     & 51498900   & 816.04     & TSLA      \\\\\n",
       "\t 2021-01-08 & 856.00     & 884.49     & 838.39     & 880.02     & 75055500   & 880.02     & TSLA      \\\\\n",
       "\t 2021-01-11 & 849.40     & 854.43     & 803.62     & 811.19     & 59301600   & 811.19     & TSLA      \\\\\n",
       "\\end{tabular}\n"
      ],
      "text/markdown": [
       "\n",
       "Date | Open | High | Low | Close | Volume | Adjusted | Symbol | \n",
       "|---|---|---|---|---|---|\n",
       "| 2021-01-04 | 719.46     | 744.49     | 717.19     | 729.77     | 48638200   | 729.77     | TSLA       | \n",
       "| 2021-01-05 | 723.66     | 740.84     | 719.20     | 735.11     | 32245200   | 735.11     | TSLA       | \n",
       "| 2021-01-06 | 758.49     | 774.00     | 749.10     | 755.98     | 44700000   | 755.98     | TSLA       | \n",
       "| 2021-01-07 | 777.63     | 816.99     | 775.20     | 816.04     | 51498900   | 816.04     | TSLA       | \n",
       "| 2021-01-08 | 856.00     | 884.49     | 838.39     | 880.02     | 75055500   | 880.02     | TSLA       | \n",
       "| 2021-01-11 | 849.40     | 854.43     | 803.62     | 811.19     | 59301600   | 811.19     | TSLA       | \n",
       "\n",
       "\n"
      ],
      "text/plain": [
       "  Date       Open   High   Low    Close  Volume   Adjusted Symbol\n",
       "1 2021-01-04 719.46 744.49 717.19 729.77 48638200 729.77   TSLA  \n",
       "2 2021-01-05 723.66 740.84 719.20 735.11 32245200 735.11   TSLA  \n",
       "3 2021-01-06 758.49 774.00 749.10 755.98 44700000 755.98   TSLA  \n",
       "4 2021-01-07 777.63 816.99 775.20 816.04 51498900 816.04   TSLA  \n",
       "5 2021-01-08 856.00 884.49 838.39 880.02 75055500 880.02   TSLA  \n",
       "6 2021-01-11 849.40 854.43 803.62 811.19 59301600 811.19   TSLA  "
      ]
     },
     "metadata": {},
     "output_type": "display_data"
    }
   ],
   "source": [
    "# Add a new column Symbol and assign a value\n",
    "df$Symbol <- 'TSLA'\n",
    "head(df)"
   ]
  },
  {
   "cell_type": "markdown",
   "metadata": {},
   "source": [
    "# how to use ifelse function in R"
   ]
  },
  {
   "cell_type": "code",
   "execution_count": 10,
   "metadata": {},
   "outputs": [
    {
     "data": {
      "text/html": [
       "<table>\n",
       "<thead><tr><th scope=col>Date</th><th scope=col>Open</th><th scope=col>High</th><th scope=col>Low</th><th scope=col>Close</th><th scope=col>Volume</th><th scope=col>Adjusted</th><th scope=col>Symbol</th><th scope=col>UpDown</th></tr></thead>\n",
       "<tbody>\n",
       "\t<tr><td>2021-01-04</td><td>719.46    </td><td>744.49    </td><td>717.19    </td><td>729.77    </td><td>48638200  </td><td>729.77    </td><td>TSLA      </td><td>1         </td></tr>\n",
       "\t<tr><td>2021-01-05</td><td>723.66    </td><td>740.84    </td><td>719.20    </td><td>735.11    </td><td>32245200  </td><td>735.11    </td><td>TSLA      </td><td>1         </td></tr>\n",
       "\t<tr><td>2021-01-06</td><td>758.49    </td><td>774.00    </td><td>749.10    </td><td>755.98    </td><td>44700000  </td><td>755.98    </td><td>TSLA      </td><td>0         </td></tr>\n",
       "\t<tr><td>2021-01-07</td><td>777.63    </td><td>816.99    </td><td>775.20    </td><td>816.04    </td><td>51498900  </td><td>816.04    </td><td>TSLA      </td><td>1         </td></tr>\n",
       "\t<tr><td>2021-01-08</td><td>856.00    </td><td>884.49    </td><td>838.39    </td><td>880.02    </td><td>75055500  </td><td>880.02    </td><td>TSLA      </td><td>1         </td></tr>\n",
       "\t<tr><td>2021-01-11</td><td>849.40    </td><td>854.43    </td><td>803.62    </td><td>811.19    </td><td>59301600  </td><td>811.19    </td><td>TSLA      </td><td>0         </td></tr>\n",
       "</tbody>\n",
       "</table>\n"
      ],
      "text/latex": [
       "\\begin{tabular}{r|lllllllll}\n",
       " Date & Open & High & Low & Close & Volume & Adjusted & Symbol & UpDown\\\\\n",
       "\\hline\n",
       "\t 2021-01-04 & 719.46     & 744.49     & 717.19     & 729.77     & 48638200   & 729.77     & TSLA       & 1         \\\\\n",
       "\t 2021-01-05 & 723.66     & 740.84     & 719.20     & 735.11     & 32245200   & 735.11     & TSLA       & 1         \\\\\n",
       "\t 2021-01-06 & 758.49     & 774.00     & 749.10     & 755.98     & 44700000   & 755.98     & TSLA       & 0         \\\\\n",
       "\t 2021-01-07 & 777.63     & 816.99     & 775.20     & 816.04     & 51498900   & 816.04     & TSLA       & 1         \\\\\n",
       "\t 2021-01-08 & 856.00     & 884.49     & 838.39     & 880.02     & 75055500   & 880.02     & TSLA       & 1         \\\\\n",
       "\t 2021-01-11 & 849.40     & 854.43     & 803.62     & 811.19     & 59301600   & 811.19     & TSLA       & 0         \\\\\n",
       "\\end{tabular}\n"
      ],
      "text/markdown": [
       "\n",
       "Date | Open | High | Low | Close | Volume | Adjusted | Symbol | UpDown | \n",
       "|---|---|---|---|---|---|\n",
       "| 2021-01-04 | 719.46     | 744.49     | 717.19     | 729.77     | 48638200   | 729.77     | TSLA       | 1          | \n",
       "| 2021-01-05 | 723.66     | 740.84     | 719.20     | 735.11     | 32245200   | 735.11     | TSLA       | 1          | \n",
       "| 2021-01-06 | 758.49     | 774.00     | 749.10     | 755.98     | 44700000   | 755.98     | TSLA       | 0          | \n",
       "| 2021-01-07 | 777.63     | 816.99     | 775.20     | 816.04     | 51498900   | 816.04     | TSLA       | 1          | \n",
       "| 2021-01-08 | 856.00     | 884.49     | 838.39     | 880.02     | 75055500   | 880.02     | TSLA       | 1          | \n",
       "| 2021-01-11 | 849.40     | 854.43     | 803.62     | 811.19     | 59301600   | 811.19     | TSLA       | 0          | \n",
       "\n",
       "\n"
      ],
      "text/plain": [
       "  Date       Open   High   Low    Close  Volume   Adjusted Symbol UpDown\n",
       "1 2021-01-04 719.46 744.49 717.19 729.77 48638200 729.77   TSLA   1     \n",
       "2 2021-01-05 723.66 740.84 719.20 735.11 32245200 735.11   TSLA   1     \n",
       "3 2021-01-06 758.49 774.00 749.10 755.98 44700000 755.98   TSLA   0     \n",
       "4 2021-01-07 777.63 816.99 775.20 816.04 51498900 816.04   TSLA   1     \n",
       "5 2021-01-08 856.00 884.49 838.39 880.02 75055500 880.02   TSLA   1     \n",
       "6 2021-01-11 849.40 854.43 803.62 811.19 59301600 811.19   TSLA   0     "
      ]
     },
     "metadata": {},
     "output_type": "display_data"
    }
   ],
   "source": [
    "df$UpDown <- ifelse (df$Open - df$Close >= 0, 0, 1)\n",
    "df$up_down <- NULL # To remove a column in R set it to NULL\n",
    "head(df)"
   ]
  },
  {
   "cell_type": "code",
   "execution_count": 11,
   "metadata": {},
   "outputs": [
    {
     "data": {
      "text/html": [
       "<table>\n",
       "<thead><tr><th scope=col>Date</th><th scope=col>Open</th><th scope=col>High</th><th scope=col>Low</th><th scope=col>Close</th><th scope=col>Volume</th><th scope=col>Adjusted</th><th scope=col>Symbol</th><th scope=col>UpDown</th><th scope=col>PercentChange</th></tr></thead>\n",
       "<tbody>\n",
       "\t<tr><td>2021-01-04</td><td>719.46    </td><td>744.49    </td><td>717.19    </td><td>729.77    </td><td>48638200  </td><td>729.77    </td><td>TSLA      </td><td>1         </td><td> 1.4330220</td></tr>\n",
       "\t<tr><td>2021-01-05</td><td>723.66    </td><td>740.84    </td><td>719.20    </td><td>735.11    </td><td>32245200  </td><td>735.11    </td><td>TSLA      </td><td>1         </td><td> 1.5822327</td></tr>\n",
       "\t<tr><td>2021-01-06</td><td>758.49    </td><td>774.00    </td><td>749.10    </td><td>755.98    </td><td>44700000  </td><td>755.98    </td><td>TSLA      </td><td>0         </td><td>-0.3309233</td></tr>\n",
       "\t<tr><td>2021-01-07</td><td>777.63    </td><td>816.99    </td><td>775.20    </td><td>816.04    </td><td>51498900  </td><td>816.04    </td><td>TSLA      </td><td>1         </td><td> 4.9393642</td></tr>\n",
       "\t<tr><td>2021-01-08</td><td>856.00    </td><td>884.49    </td><td>838.39    </td><td>880.02    </td><td>75055500  </td><td>880.02    </td><td>TSLA      </td><td>1         </td><td> 2.8060771</td></tr>\n",
       "\t<tr><td>2021-01-11</td><td>849.40    </td><td>854.43    </td><td>803.62    </td><td>811.19    </td><td>59301600  </td><td>811.19    </td><td>TSLA      </td><td>0         </td><td>-4.4984693</td></tr>\n",
       "</tbody>\n",
       "</table>\n"
      ],
      "text/latex": [
       "\\begin{tabular}{r|llllllllll}\n",
       " Date & Open & High & Low & Close & Volume & Adjusted & Symbol & UpDown & PercentChange\\\\\n",
       "\\hline\n",
       "\t 2021-01-04 & 719.46     & 744.49     & 717.19     & 729.77     & 48638200   & 729.77     & TSLA       & 1          &  1.4330220\\\\\n",
       "\t 2021-01-05 & 723.66     & 740.84     & 719.20     & 735.11     & 32245200   & 735.11     & TSLA       & 1          &  1.5822327\\\\\n",
       "\t 2021-01-06 & 758.49     & 774.00     & 749.10     & 755.98     & 44700000   & 755.98     & TSLA       & 0          & -0.3309233\\\\\n",
       "\t 2021-01-07 & 777.63     & 816.99     & 775.20     & 816.04     & 51498900   & 816.04     & TSLA       & 1          &  4.9393642\\\\\n",
       "\t 2021-01-08 & 856.00     & 884.49     & 838.39     & 880.02     & 75055500   & 880.02     & TSLA       & 1          &  2.8060771\\\\\n",
       "\t 2021-01-11 & 849.40     & 854.43     & 803.62     & 811.19     & 59301600   & 811.19     & TSLA       & 0          & -4.4984693\\\\\n",
       "\\end{tabular}\n"
      ],
      "text/markdown": [
       "\n",
       "Date | Open | High | Low | Close | Volume | Adjusted | Symbol | UpDown | PercentChange | \n",
       "|---|---|---|---|---|---|\n",
       "| 2021-01-04 | 719.46     | 744.49     | 717.19     | 729.77     | 48638200   | 729.77     | TSLA       | 1          |  1.4330220 | \n",
       "| 2021-01-05 | 723.66     | 740.84     | 719.20     | 735.11     | 32245200   | 735.11     | TSLA       | 1          |  1.5822327 | \n",
       "| 2021-01-06 | 758.49     | 774.00     | 749.10     | 755.98     | 44700000   | 755.98     | TSLA       | 0          | -0.3309233 | \n",
       "| 2021-01-07 | 777.63     | 816.99     | 775.20     | 816.04     | 51498900   | 816.04     | TSLA       | 1          |  4.9393642 | \n",
       "| 2021-01-08 | 856.00     | 884.49     | 838.39     | 880.02     | 75055500   | 880.02     | TSLA       | 1          |  2.8060771 | \n",
       "| 2021-01-11 | 849.40     | 854.43     | 803.62     | 811.19     | 59301600   | 811.19     | TSLA       | 0          | -4.4984693 | \n",
       "\n",
       "\n"
      ],
      "text/plain": [
       "  Date       Open   High   Low    Close  Volume   Adjusted Symbol UpDown\n",
       "1 2021-01-04 719.46 744.49 717.19 729.77 48638200 729.77   TSLA   1     \n",
       "2 2021-01-05 723.66 740.84 719.20 735.11 32245200 735.11   TSLA   1     \n",
       "3 2021-01-06 758.49 774.00 749.10 755.98 44700000 755.98   TSLA   0     \n",
       "4 2021-01-07 777.63 816.99 775.20 816.04 51498900 816.04   TSLA   1     \n",
       "5 2021-01-08 856.00 884.49 838.39 880.02 75055500 880.02   TSLA   1     \n",
       "6 2021-01-11 849.40 854.43 803.62 811.19 59301600 811.19   TSLA   0     \n",
       "  PercentChange\n",
       "1  1.4330220   \n",
       "2  1.5822327   \n",
       "3 -0.3309233   \n",
       "4  4.9393642   \n",
       "5  2.8060771   \n",
       "6 -4.4984693   "
      ]
     },
     "metadata": {},
     "output_type": "display_data"
    }
   ],
   "source": [
    "df$PercentChange <- ((df$Close - df$Open)/df$Open) * 100\n",
    "head(df)\n"
   ]
  },
  {
   "cell_type": "code",
   "execution_count": 12,
   "metadata": {},
   "outputs": [
    {
     "data": {
      "text/html": [
       "69"
      ],
      "text/latex": [
       "69"
      ],
      "text/markdown": [
       "69"
      ],
      "text/plain": [
       "[1] 69"
      ]
     },
     "metadata": {},
     "output_type": "display_data"
    },
    {
     "data": {
      "text/html": [
       "<table>\n",
       "<thead><tr><th scope=col>Date</th><th scope=col>Open</th><th scope=col>High</th><th scope=col>Low</th><th scope=col>Close</th><th scope=col>Volume</th><th scope=col>Adjusted</th><th scope=col>Symbol</th><th scope=col>UpDown</th><th scope=col>PercentChange</th></tr></thead>\n",
       "<tbody>\n",
       "\t<tr><td>2021-01-04</td><td>719.46    </td><td>744.49    </td><td>717.19    </td><td>729.77    </td><td>48638200  </td><td>729.77    </td><td>TSLA      </td><td>1         </td><td> 1.4330220</td></tr>\n",
       "\t<tr><td>2021-01-05</td><td>723.66    </td><td>740.84    </td><td>719.20    </td><td>735.11    </td><td>32245200  </td><td>735.11    </td><td>TSLA      </td><td>1         </td><td> 1.5822327</td></tr>\n",
       "\t<tr><td>2021-01-06</td><td>758.49    </td><td>774.00    </td><td>749.10    </td><td>755.98    </td><td>44700000  </td><td>755.98    </td><td>TSLA      </td><td>0         </td><td>-0.3309233</td></tr>\n",
       "\t<tr><td>2021-01-07</td><td>777.63    </td><td>816.99    </td><td>775.20    </td><td>816.04    </td><td>51498900  </td><td>816.04    </td><td>TSLA      </td><td>1         </td><td> 4.9393642</td></tr>\n",
       "\t<tr><td>2021-01-08</td><td>856.00    </td><td>884.49    </td><td>838.39    </td><td>880.02    </td><td>75055500  </td><td>880.02    </td><td>TSLA      </td><td>1         </td><td> 2.8060771</td></tr>\n",
       "\t<tr><td>2021-01-11</td><td>849.40    </td><td>854.43    </td><td>803.62    </td><td>811.19    </td><td>59301600  </td><td>811.19    </td><td>TSLA      </td><td>0         </td><td>-4.4984693</td></tr>\n",
       "</tbody>\n",
       "</table>\n"
      ],
      "text/latex": [
       "\\begin{tabular}{r|llllllllll}\n",
       " Date & Open & High & Low & Close & Volume & Adjusted & Symbol & UpDown & PercentChange\\\\\n",
       "\\hline\n",
       "\t 2021-01-04 & 719.46     & 744.49     & 717.19     & 729.77     & 48638200   & 729.77     & TSLA       & 1          &  1.4330220\\\\\n",
       "\t 2021-01-05 & 723.66     & 740.84     & 719.20     & 735.11     & 32245200   & 735.11     & TSLA       & 1          &  1.5822327\\\\\n",
       "\t 2021-01-06 & 758.49     & 774.00     & 749.10     & 755.98     & 44700000   & 755.98     & TSLA       & 0          & -0.3309233\\\\\n",
       "\t 2021-01-07 & 777.63     & 816.99     & 775.20     & 816.04     & 51498900   & 816.04     & TSLA       & 1          &  4.9393642\\\\\n",
       "\t 2021-01-08 & 856.00     & 884.49     & 838.39     & 880.02     & 75055500   & 880.02     & TSLA       & 1          &  2.8060771\\\\\n",
       "\t 2021-01-11 & 849.40     & 854.43     & 803.62     & 811.19     & 59301600   & 811.19     & TSLA       & 0          & -4.4984693\\\\\n",
       "\\end{tabular}\n"
      ],
      "text/markdown": [
       "\n",
       "Date | Open | High | Low | Close | Volume | Adjusted | Symbol | UpDown | PercentChange | \n",
       "|---|---|---|---|---|---|\n",
       "| 2021-01-04 | 719.46     | 744.49     | 717.19     | 729.77     | 48638200   | 729.77     | TSLA       | 1          |  1.4330220 | \n",
       "| 2021-01-05 | 723.66     | 740.84     | 719.20     | 735.11     | 32245200   | 735.11     | TSLA       | 1          |  1.5822327 | \n",
       "| 2021-01-06 | 758.49     | 774.00     | 749.10     | 755.98     | 44700000   | 755.98     | TSLA       | 0          | -0.3309233 | \n",
       "| 2021-01-07 | 777.63     | 816.99     | 775.20     | 816.04     | 51498900   | 816.04     | TSLA       | 1          |  4.9393642 | \n",
       "| 2021-01-08 | 856.00     | 884.49     | 838.39     | 880.02     | 75055500   | 880.02     | TSLA       | 1          |  2.8060771 | \n",
       "| 2021-01-11 | 849.40     | 854.43     | 803.62     | 811.19     | 59301600   | 811.19     | TSLA       | 0          | -4.4984693 | \n",
       "\n",
       "\n"
      ],
      "text/plain": [
       "  Date       Open   High   Low    Close  Volume   Adjusted Symbol UpDown\n",
       "1 2021-01-04 719.46 744.49 717.19 729.77 48638200 729.77   TSLA   1     \n",
       "2 2021-01-05 723.66 740.84 719.20 735.11 32245200 735.11   TSLA   1     \n",
       "3 2021-01-06 758.49 774.00 749.10 755.98 44700000 755.98   TSLA   0     \n",
       "4 2021-01-07 777.63 816.99 775.20 816.04 51498900 816.04   TSLA   1     \n",
       "5 2021-01-08 856.00 884.49 838.39 880.02 75055500 880.02   TSLA   1     \n",
       "6 2021-01-11 849.40 854.43 803.62 811.19 59301600 811.19   TSLA   0     \n",
       "  PercentChange\n",
       "1  1.4330220   \n",
       "2  1.5822327   \n",
       "3 -0.3309233   \n",
       "4  4.9393642   \n",
       "5  2.8060771   \n",
       "6 -4.4984693   "
      ]
     },
     "metadata": {},
     "output_type": "display_data"
    }
   ],
   "source": [
    "# Total number of rows in the data frame\n",
    "nrow(df)\n",
    "\n",
    "head(df)"
   ]
  },
  {
   "cell_type": "code",
   "execution_count": 14,
   "metadata": {},
   "outputs": [
    {
     "data": {
      "text/html": [
       "69"
      ],
      "text/latex": [
       "69"
      ],
      "text/markdown": [
       "69"
      ],
      "text/plain": [
       "[1] 69"
      ]
     },
     "metadata": {},
     "output_type": "display_data"
    },
    {
     "data": {
      "text/html": [
       "891.38"
      ],
      "text/latex": [
       "891.38"
      ],
      "text/markdown": [
       "891.38"
      ],
      "text/plain": [
       "[1] 891.38"
      ]
     },
     "metadata": {},
     "output_type": "display_data"
    },
    {
     "data": {
      "text/html": [
       "600.55"
      ],
      "text/latex": [
       "600.55"
      ],
      "text/markdown": [
       "600.55"
      ],
      "text/plain": [
       "[1] 600.55"
      ]
     },
     "metadata": {},
     "output_type": "display_data"
    },
    {
     "data": {
      "text/html": [
       "10.7533981715939"
      ],
      "text/latex": [
       "10.7533981715939"
      ],
      "text/markdown": [
       "10.7533981715939"
      ],
      "text/plain": [
       "[1] 10.7534"
      ]
     },
     "metadata": {},
     "output_type": "display_data"
    },
    {
     "data": {
      "text/html": [
       "-6.31228364628134"
      ],
      "text/latex": [
       "-6.31228364628134"
      ],
      "text/markdown": [
       "-6.31228364628134"
      ],
      "text/plain": [
       "[1] -6.312284"
      ]
     },
     "metadata": {},
     "output_type": "display_data"
    }
   ],
   "source": [
    "# total number of rows in the data frame\n",
    "nrow(is.na(df))\n",
    "\n",
    "# find the max open price\n",
    "max(df$Open, na.rm=TRUE)\n",
    "\n",
    "# find the min open price\n",
    "min(df$Open, na.rm=TRUE)\n",
    "\n",
    "# find the max Percent Change\n",
    "max(df$PercentChange, na.rm=TRUE)\n",
    "\n",
    "# find the min Percent Change\n",
    "min(df$PercentChange, na.rm=TRUE)\n",
    "\n"
   ]
  },
  {
   "cell_type": "code",
   "execution_count": 15,
   "metadata": {},
   "outputs": [
    {
     "data": {
      "text/html": [
       "<table>\n",
       "<thead><tr><th></th><th scope=col>Date</th><th scope=col>Open</th><th scope=col>High</th><th scope=col>Low</th><th scope=col>Close</th><th scope=col>Volume</th><th scope=col>Adjusted</th><th scope=col>Symbol</th><th scope=col>UpDown</th><th scope=col>PercentChange</th></tr></thead>\n",
       "<tbody>\n",
       "\t<tr><th scope=row>16</th><td>2021-01-26</td><td>891.38    </td><td>895.9     </td><td>871.6     </td><td>883.09    </td><td>23131600  </td><td>883.09    </td><td>TSLA      </td><td>0         </td><td>-0.9300156</td></tr>\n",
       "</tbody>\n",
       "</table>\n"
      ],
      "text/latex": [
       "\\begin{tabular}{r|llllllllll}\n",
       "  & Date & Open & High & Low & Close & Volume & Adjusted & Symbol & UpDown & PercentChange\\\\\n",
       "\\hline\n",
       "\t16 & 2021-01-26 & 891.38     & 895.9      & 871.6      & 883.09     & 23131600   & 883.09     & TSLA       & 0          & -0.9300156\\\\\n",
       "\\end{tabular}\n"
      ],
      "text/markdown": [
       "\n",
       "| <!--/--> | Date | Open | High | Low | Close | Volume | Adjusted | Symbol | UpDown | PercentChange | \n",
       "|---|\n",
       "| 16 | 2021-01-26 | 891.38     | 895.9      | 871.6      | 883.09     | 23131600   | 883.09     | TSLA       | 0          | -0.9300156 | \n",
       "\n",
       "\n"
      ],
      "text/plain": [
       "   Date       Open   High  Low   Close  Volume   Adjusted Symbol UpDown\n",
       "16 2021-01-26 891.38 895.9 871.6 883.09 23131600 883.09   TSLA   0     \n",
       "   PercentChange\n",
       "16 -0.9300156   "
      ]
     },
     "metadata": {},
     "output_type": "display_data"
    },
    {
     "data": {
      "text/html": [
       "<table>\n",
       "<thead><tr><th></th><th scope=col>Date</th><th scope=col>Open</th><th scope=col>High</th><th scope=col>Low</th><th scope=col>Close</th><th scope=col>Volume</th><th scope=col>Adjusted</th><th scope=col>Symbol</th><th scope=col>UpDown</th><th scope=col>PercentChange</th></tr></thead>\n",
       "<tbody>\n",
       "\t<tr><th scope=row>44</th><td>2021-03-08</td><td>600.55    </td><td>620.13    </td><td>558.79    </td><td>563       </td><td>51787000  </td><td>563       </td><td>TSLA      </td><td>0         </td><td>-6.252602 </td></tr>\n",
       "</tbody>\n",
       "</table>\n"
      ],
      "text/latex": [
       "\\begin{tabular}{r|llllllllll}\n",
       "  & Date & Open & High & Low & Close & Volume & Adjusted & Symbol & UpDown & PercentChange\\\\\n",
       "\\hline\n",
       "\t44 & 2021-03-08 & 600.55     & 620.13     & 558.79     & 563        & 51787000   & 563        & TSLA       & 0          & -6.252602 \\\\\n",
       "\\end{tabular}\n"
      ],
      "text/markdown": [
       "\n",
       "| <!--/--> | Date | Open | High | Low | Close | Volume | Adjusted | Symbol | UpDown | PercentChange | \n",
       "|---|\n",
       "| 44 | 2021-03-08 | 600.55     | 620.13     | 558.79     | 563        | 51787000   | 563        | TSLA       | 0          | -6.252602  | \n",
       "\n",
       "\n"
      ],
      "text/plain": [
       "   Date       Open   High   Low    Close Volume   Adjusted Symbol UpDown\n",
       "44 2021-03-08 600.55 620.13 558.79 563   51787000 563      TSLA   0     \n",
       "   PercentChange\n",
       "44 -6.252602    "
      ]
     },
     "metadata": {},
     "output_type": "display_data"
    }
   ],
   "source": [
    "# find the row with the max open price\n",
    "df[df$Open == max(df$Open, na.rm=TRUE),]\n",
    "\n",
    "# find the row with the lowest open price\n",
    "df[df$Open == min(df$Open, na.rm=TRUE),]\n"
   ]
  },
  {
   "cell_type": "code",
   "execution_count": 18,
   "metadata": {},
   "outputs": [
    {
     "data": {
      "text/html": [
       "69"
      ],
      "text/latex": [
       "69"
      ],
      "text/markdown": [
       "69"
      ],
      "text/plain": [
       "[1] 69"
      ]
     },
     "metadata": {},
     "output_type": "display_data"
    },
    {
     "data": {
      "text/html": [
       "891.38"
      ],
      "text/latex": [
       "891.38"
      ],
      "text/markdown": [
       "891.38"
      ],
      "text/plain": [
       "[1] 891.38"
      ]
     },
     "metadata": {},
     "output_type": "display_data"
    },
    {
     "data": {
      "text/html": [
       "600.55"
      ],
      "text/latex": [
       "600.55"
      ],
      "text/markdown": [
       "600.55"
      ],
      "text/plain": [
       "[1] 600.55"
      ]
     },
     "metadata": {},
     "output_type": "display_data"
    },
    {
     "data": {
      "text/html": [
       "10.7533981715939"
      ],
      "text/latex": [
       "10.7533981715939"
      ],
      "text/markdown": [
       "10.7533981715939"
      ],
      "text/plain": [
       "[1] 10.7534"
      ]
     },
     "metadata": {},
     "output_type": "display_data"
    },
    {
     "data": {
      "text/html": [
       "-6.31228364628134"
      ],
      "text/latex": [
       "-6.31228364628134"
      ],
      "text/markdown": [
       "-6.31228364628134"
      ],
      "text/plain": [
       "[1] -6.312284"
      ]
     },
     "metadata": {},
     "output_type": "display_data"
    }
   ],
   "source": [
    "df.omit <- na.omit(df)\n",
    "\n",
    "# total number of rows in the data frame\n",
    "nrow(is.na(df.omit))\n",
    "\n",
    "# find the max open price\n",
    "max(df.omit$Open, na.rm=TRUE)\n",
    "\n",
    "# find the min open price\n",
    "min(df.omit$Open, na.rm=TRUE)\n",
    "\n",
    "# find the max Percent Change\n",
    "max(df.omit$PercentChange, na.rm=TRUE)\n",
    "\n",
    "# find the min Percent Change\n",
    "min(df.omit$PercentChange, na.rm=TRUE)\n"
   ]
  },
  {
   "cell_type": "code",
   "execution_count": 19,
   "metadata": {},
   "outputs": [
    {
     "data": {
      "text/html": [
       "<table>\n",
       "<thead><tr><th></th><th scope=col>Date</th><th scope=col>Open</th><th scope=col>High</th><th scope=col>Low</th><th scope=col>Close</th><th scope=col>Volume</th><th scope=col>Adjusted</th><th scope=col>Symbol</th><th scope=col>UpDown</th><th scope=col>PercentChange</th></tr></thead>\n",
       "<tbody>\n",
       "\t<tr><th scope=row>34</th><td>2021-02-22</td><td>762.64    </td><td>768.5     </td><td>710.2     </td><td>714.5     </td><td>37269700  </td><td>714.5     </td><td>TSLA      </td><td>0         </td><td>-6.312284 </td></tr>\n",
       "</tbody>\n",
       "</table>\n"
      ],
      "text/latex": [
       "\\begin{tabular}{r|llllllllll}\n",
       "  & Date & Open & High & Low & Close & Volume & Adjusted & Symbol & UpDown & PercentChange\\\\\n",
       "\\hline\n",
       "\t34 & 2021-02-22 & 762.64     & 768.5      & 710.2      & 714.5      & 37269700   & 714.5      & TSLA       & 0          & -6.312284 \\\\\n",
       "\\end{tabular}\n"
      ],
      "text/markdown": [
       "\n",
       "| <!--/--> | Date | Open | High | Low | Close | Volume | Adjusted | Symbol | UpDown | PercentChange | \n",
       "|---|\n",
       "| 34 | 2021-02-22 | 762.64     | 768.5      | 710.2      | 714.5      | 37269700   | 714.5      | TSLA       | 0          | -6.312284  | \n",
       "\n",
       "\n"
      ],
      "text/plain": [
       "   Date       Open   High  Low   Close Volume   Adjusted Symbol UpDown\n",
       "34 2021-02-22 762.64 768.5 710.2 714.5 37269700 714.5    TSLA   0     \n",
       "   PercentChange\n",
       "34 -6.312284    "
      ]
     },
     "metadata": {},
     "output_type": "display_data"
    }
   ],
   "source": [
    "# When was the worst time for this stock?\n",
    "df.omit[df.omit$PercentChange == min(df.omit$PercentChange, na.rm=TRUE),]"
   ]
  },
  {
   "cell_type": "markdown",
   "metadata": {},
   "source": [
    "<h3>Answer:</h3>\n",
    "October 19, 1987 \n",
    "https://www.forbes.com/sites/johndobosz/2012/10/19/crash-of-1987-haunts-this-october-stock-market/#6b7f36615e8e <br>"
   ]
  },
  {
   "cell_type": "code",
   "execution_count": 20,
   "metadata": {},
   "outputs": [
    {
     "data": {
      "text/html": [
       "<table>\n",
       "<thead><tr><th scope=col>Date</th><th scope=col>Open</th><th scope=col>High</th><th scope=col>Low</th><th scope=col>Close</th><th scope=col>Volume</th><th scope=col>Adjusted</th><th scope=col>Symbol</th><th scope=col>UpDown</th><th scope=col>PercentChange</th></tr></thead>\n",
       "<tbody>\n",
       "\t<tr><td>2021-01-04</td><td>719.46    </td><td>744.49    </td><td>717.19    </td><td>729.77    </td><td>48638200  </td><td>729.77    </td><td>TSLA      </td><td>1         </td><td> 1.4330220</td></tr>\n",
       "\t<tr><td>2021-01-05</td><td>723.66    </td><td>740.84    </td><td>719.20    </td><td>735.11    </td><td>32245200  </td><td>735.11    </td><td>TSLA      </td><td>1         </td><td> 1.5822327</td></tr>\n",
       "\t<tr><td>2021-01-06</td><td>758.49    </td><td>774.00    </td><td>749.10    </td><td>755.98    </td><td>44700000  </td><td>755.98    </td><td>TSLA      </td><td>0         </td><td>-0.3309233</td></tr>\n",
       "\t<tr><td>2021-01-07</td><td>777.63    </td><td>816.99    </td><td>775.20    </td><td>816.04    </td><td>51498900  </td><td>816.04    </td><td>TSLA      </td><td>1         </td><td> 4.9393642</td></tr>\n",
       "\t<tr><td>2021-01-08</td><td>856.00    </td><td>884.49    </td><td>838.39    </td><td>880.02    </td><td>75055500  </td><td>880.02    </td><td>TSLA      </td><td>1         </td><td> 2.8060771</td></tr>\n",
       "\t<tr><td>2021-01-11</td><td>849.40    </td><td>854.43    </td><td>803.62    </td><td>811.19    </td><td>59301600  </td><td>811.19    </td><td>TSLA      </td><td>0         </td><td>-4.4984693</td></tr>\n",
       "</tbody>\n",
       "</table>\n"
      ],
      "text/latex": [
       "\\begin{tabular}{r|llllllllll}\n",
       " Date & Open & High & Low & Close & Volume & Adjusted & Symbol & UpDown & PercentChange\\\\\n",
       "\\hline\n",
       "\t 2021-01-04 & 719.46     & 744.49     & 717.19     & 729.77     & 48638200   & 729.77     & TSLA       & 1          &  1.4330220\\\\\n",
       "\t 2021-01-05 & 723.66     & 740.84     & 719.20     & 735.11     & 32245200   & 735.11     & TSLA       & 1          &  1.5822327\\\\\n",
       "\t 2021-01-06 & 758.49     & 774.00     & 749.10     & 755.98     & 44700000   & 755.98     & TSLA       & 0          & -0.3309233\\\\\n",
       "\t 2021-01-07 & 777.63     & 816.99     & 775.20     & 816.04     & 51498900   & 816.04     & TSLA       & 1          &  4.9393642\\\\\n",
       "\t 2021-01-08 & 856.00     & 884.49     & 838.39     & 880.02     & 75055500   & 880.02     & TSLA       & 1          &  2.8060771\\\\\n",
       "\t 2021-01-11 & 849.40     & 854.43     & 803.62     & 811.19     & 59301600   & 811.19     & TSLA       & 0          & -4.4984693\\\\\n",
       "\\end{tabular}\n"
      ],
      "text/markdown": [
       "\n",
       "Date | Open | High | Low | Close | Volume | Adjusted | Symbol | UpDown | PercentChange | \n",
       "|---|---|---|---|---|---|\n",
       "| 2021-01-04 | 719.46     | 744.49     | 717.19     | 729.77     | 48638200   | 729.77     | TSLA       | 1          |  1.4330220 | \n",
       "| 2021-01-05 | 723.66     | 740.84     | 719.20     | 735.11     | 32245200   | 735.11     | TSLA       | 1          |  1.5822327 | \n",
       "| 2021-01-06 | 758.49     | 774.00     | 749.10     | 755.98     | 44700000   | 755.98     | TSLA       | 0          | -0.3309233 | \n",
       "| 2021-01-07 | 777.63     | 816.99     | 775.20     | 816.04     | 51498900   | 816.04     | TSLA       | 1          |  4.9393642 | \n",
       "| 2021-01-08 | 856.00     | 884.49     | 838.39     | 880.02     | 75055500   | 880.02     | TSLA       | 1          |  2.8060771 | \n",
       "| 2021-01-11 | 849.40     | 854.43     | 803.62     | 811.19     | 59301600   | 811.19     | TSLA       | 0          | -4.4984693 | \n",
       "\n",
       "\n"
      ],
      "text/plain": [
       "  Date       Open   High   Low    Close  Volume   Adjusted Symbol UpDown\n",
       "1 2021-01-04 719.46 744.49 717.19 729.77 48638200 729.77   TSLA   1     \n",
       "2 2021-01-05 723.66 740.84 719.20 735.11 32245200 735.11   TSLA   1     \n",
       "3 2021-01-06 758.49 774.00 749.10 755.98 44700000 755.98   TSLA   0     \n",
       "4 2021-01-07 777.63 816.99 775.20 816.04 51498900 816.04   TSLA   1     \n",
       "5 2021-01-08 856.00 884.49 838.39 880.02 75055500 880.02   TSLA   1     \n",
       "6 2021-01-11 849.40 854.43 803.62 811.19 59301600 811.19   TSLA   0     \n",
       "  PercentChange\n",
       "1  1.4330220   \n",
       "2  1.5822327   \n",
       "3 -0.3309233   \n",
       "4  4.9393642   \n",
       "5  2.8060771   \n",
       "6 -4.4984693   "
      ]
     },
     "metadata": {},
     "output_type": "display_data"
    }
   ],
   "source": [
    "head(df.omit)"
   ]
  },
  {
   "cell_type": "code",
   "execution_count": 21,
   "metadata": {},
   "outputs": [],
   "source": [
    "# syntax to get the help page for getSymbols() function in from quantmod\n",
    "?getSymbols"
   ]
  },
  {
   "cell_type": "code",
   "execution_count": 22,
   "metadata": {},
   "outputs": [
    {
     "data": {
      "text/html": [
       "<ol class=list-inline>\n",
       "\t<li>69</li>\n",
       "\t<li>10</li>\n",
       "</ol>\n"
      ],
      "text/latex": [
       "\\begin{enumerate*}\n",
       "\\item 69\n",
       "\\item 10\n",
       "\\end{enumerate*}\n"
      ],
      "text/markdown": [
       "1. 69\n",
       "2. 10\n",
       "\n",
       "\n"
      ],
      "text/plain": [
       "[1] 69 10"
      ]
     },
     "metadata": {},
     "output_type": "display_data"
    }
   ],
   "source": [
    "# Get the dimension of the dataframe\n",
    "dim(df)"
   ]
  },
  {
   "cell_type": "markdown",
   "metadata": {},
   "source": [
    "Answer: 9670 rows with 10 columns or variables"
   ]
  },
  {
   "cell_type": "code",
   "execution_count": 23,
   "metadata": {},
   "outputs": [
    {
     "data": {
      "text/html": [
       "<table>\n",
       "<thead><tr><th scope=col>Date</th><th scope=col>Open</th><th scope=col>High</th><th scope=col>Low</th><th scope=col>Close</th><th scope=col>Volume</th><th scope=col>Adjusted</th><th scope=col>Symbol</th><th scope=col>UpDown</th><th scope=col>PercentChange</th><th scope=col>DayOfWeek</th></tr></thead>\n",
       "<tbody>\n",
       "\t<tr><td>2021-01-04</td><td>719.46    </td><td>744.49    </td><td>717.19    </td><td>729.77    </td><td>48638200  </td><td>729.77    </td><td>TSLA      </td><td>1         </td><td> 1.4330220</td><td>Monday    </td></tr>\n",
       "\t<tr><td>2021-01-05</td><td>723.66    </td><td>740.84    </td><td>719.20    </td><td>735.11    </td><td>32245200  </td><td>735.11    </td><td>TSLA      </td><td>1         </td><td> 1.5822327</td><td>Tuesday   </td></tr>\n",
       "\t<tr><td>2021-01-06</td><td>758.49    </td><td>774.00    </td><td>749.10    </td><td>755.98    </td><td>44700000  </td><td>755.98    </td><td>TSLA      </td><td>0         </td><td>-0.3309233</td><td>Wednesday </td></tr>\n",
       "\t<tr><td>2021-01-07</td><td>777.63    </td><td>816.99    </td><td>775.20    </td><td>816.04    </td><td>51498900  </td><td>816.04    </td><td>TSLA      </td><td>1         </td><td> 4.9393642</td><td>Thursday  </td></tr>\n",
       "\t<tr><td>2021-01-08</td><td>856.00    </td><td>884.49    </td><td>838.39    </td><td>880.02    </td><td>75055500  </td><td>880.02    </td><td>TSLA      </td><td>1         </td><td> 2.8060771</td><td>Friday    </td></tr>\n",
       "\t<tr><td>2021-01-11</td><td>849.40    </td><td>854.43    </td><td>803.62    </td><td>811.19    </td><td>59301600  </td><td>811.19    </td><td>TSLA      </td><td>0         </td><td>-4.4984693</td><td>Monday    </td></tr>\n",
       "</tbody>\n",
       "</table>\n"
      ],
      "text/latex": [
       "\\begin{tabular}{r|lllllllllll}\n",
       " Date & Open & High & Low & Close & Volume & Adjusted & Symbol & UpDown & PercentChange & DayOfWeek\\\\\n",
       "\\hline\n",
       "\t 2021-01-04 & 719.46     & 744.49     & 717.19     & 729.77     & 48638200   & 729.77     & TSLA       & 1          &  1.4330220 & Monday    \\\\\n",
       "\t 2021-01-05 & 723.66     & 740.84     & 719.20     & 735.11     & 32245200   & 735.11     & TSLA       & 1          &  1.5822327 & Tuesday   \\\\\n",
       "\t 2021-01-06 & 758.49     & 774.00     & 749.10     & 755.98     & 44700000   & 755.98     & TSLA       & 0          & -0.3309233 & Wednesday \\\\\n",
       "\t 2021-01-07 & 777.63     & 816.99     & 775.20     & 816.04     & 51498900   & 816.04     & TSLA       & 1          &  4.9393642 & Thursday  \\\\\n",
       "\t 2021-01-08 & 856.00     & 884.49     & 838.39     & 880.02     & 75055500   & 880.02     & TSLA       & 1          &  2.8060771 & Friday    \\\\\n",
       "\t 2021-01-11 & 849.40     & 854.43     & 803.62     & 811.19     & 59301600   & 811.19     & TSLA       & 0          & -4.4984693 & Monday    \\\\\n",
       "\\end{tabular}\n"
      ],
      "text/markdown": [
       "\n",
       "Date | Open | High | Low | Close | Volume | Adjusted | Symbol | UpDown | PercentChange | DayOfWeek | \n",
       "|---|---|---|---|---|---|\n",
       "| 2021-01-04 | 719.46     | 744.49     | 717.19     | 729.77     | 48638200   | 729.77     | TSLA       | 1          |  1.4330220 | Monday     | \n",
       "| 2021-01-05 | 723.66     | 740.84     | 719.20     | 735.11     | 32245200   | 735.11     | TSLA       | 1          |  1.5822327 | Tuesday    | \n",
       "| 2021-01-06 | 758.49     | 774.00     | 749.10     | 755.98     | 44700000   | 755.98     | TSLA       | 0          | -0.3309233 | Wednesday  | \n",
       "| 2021-01-07 | 777.63     | 816.99     | 775.20     | 816.04     | 51498900   | 816.04     | TSLA       | 1          |  4.9393642 | Thursday   | \n",
       "| 2021-01-08 | 856.00     | 884.49     | 838.39     | 880.02     | 75055500   | 880.02     | TSLA       | 1          |  2.8060771 | Friday     | \n",
       "| 2021-01-11 | 849.40     | 854.43     | 803.62     | 811.19     | 59301600   | 811.19     | TSLA       | 0          | -4.4984693 | Monday     | \n",
       "\n",
       "\n"
      ],
      "text/plain": [
       "  Date       Open   High   Low    Close  Volume   Adjusted Symbol UpDown\n",
       "1 2021-01-04 719.46 744.49 717.19 729.77 48638200 729.77   TSLA   1     \n",
       "2 2021-01-05 723.66 740.84 719.20 735.11 32245200 735.11   TSLA   1     \n",
       "3 2021-01-06 758.49 774.00 749.10 755.98 44700000 755.98   TSLA   0     \n",
       "4 2021-01-07 777.63 816.99 775.20 816.04 51498900 816.04   TSLA   1     \n",
       "5 2021-01-08 856.00 884.49 838.39 880.02 75055500 880.02   TSLA   1     \n",
       "6 2021-01-11 849.40 854.43 803.62 811.19 59301600 811.19   TSLA   0     \n",
       "  PercentChange DayOfWeek\n",
       "1  1.4330220    Monday   \n",
       "2  1.5822327    Tuesday  \n",
       "3 -0.3309233    Wednesday\n",
       "4  4.9393642    Thursday \n",
       "5  2.8060771    Friday   \n",
       "6 -4.4984693    Monday   "
      ]
     },
     "metadata": {},
     "output_type": "display_data"
    }
   ],
   "source": [
    "# Add a new column DayOfWeek to the data frame\n",
    "df$DayOfWeek <- weekdays(as.Date(df$Date))\n",
    "head(df)"
   ]
  },
  {
   "cell_type": "markdown",
   "metadata": {},
   "source": [
    "<h3> Questions:</h3>\n",
    "<ul>\n",
    "    <li> How many times was AAPL up throughout history? </li>\n",
    "    <li> How many times was AAPL down throught history? </li>\n",
    "</ul>"
   ]
  },
  {
   "cell_type": "code",
   "execution_count": 24,
   "metadata": {},
   "outputs": [
    {
     "data": {},
     "metadata": {},
     "output_type": "display_data"
    },
    {
     "data": {
      "image/png": "[encoded data removed]",
      "text/plain": [
       "plot without title"
      ]
     },
     "metadata": {},
     "output_type": "display_data"
    }
   ],
   "source": [
    "library(ggplot2)\n",
    "\n",
    "# counts (or sums of weights)\n",
    "g <- ggplot(df, aes(DayOfWeek))\n",
    "# Number of cars in each class:\n",
    "g + geom_bar()"
   ]
  },
  {
   "cell_type": "code",
   "execution_count": null,
   "metadata": {},
   "outputs": [],
   "source": []
  }
 ],
 "metadata": {
  "kernelspec": {
   "display_name": "Python 3 (ipykernel)",
   "language": "python",
   "name": "python3"
  },
  "language_info": {
   "codemirror_mode": {
    "name": "ipython",
    "version": 3
   },
   "file_extension": ".py",
   "mimetype": "text/x-python",
   "name": "python",
   "nbconvert_exporter": "python",
   "pygments_lexer": "ipython3",
   "version": "3.9.7"
  }
 },
 "nbformat": 4,
 "nbformat_minor": 2
}
